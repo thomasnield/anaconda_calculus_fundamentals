{
 "cells": [
  {
   "cell_type": "markdown",
   "id": "e5bf96d7-4c45-4506-964f-88df8fc6a590",
   "metadata": {},
   "source": [
    "# Integrals "
   ]
  },
  {
   "cell_type": "markdown",
   "id": "bd0ac4d5-849b-4948-a974-699431be78cd",
   "metadata": {},
   "source": [
    "In this section we will close out by discussing **integrals**, which calculates areas under a function. Also called the **antiderivative**, the process is done through **integration**. We will once again use SymPy to assist us in calculating integrals and avoid pencil-and-paper work you might have done in high school and college."
   ]
  },
  {
   "cell_type": "markdown",
   "id": "3836f78d-03eb-4cdf-b217-29fc5017980d",
   "metadata": {},
   "source": [
    "## Discovering Integration"
   ]
  },
  {
   "cell_type": "markdown",
   "id": "b6a7544f-b82c-460a-b94e-8728b1559920",
   "metadata": {},
   "source": [
    "Let say we have this function. \n",
    "\n",
    "$ \n",
    "\\Large f(x) = 2x - 2\n",
    "$"
   ]
  },
  {
   "cell_type": "code",
   "execution_count": null,
   "id": "e10ae0bf-26a0-414c-954c-b5db2e2490d5",
   "metadata": {},
   "outputs": [],
   "source": [
    "from sympy import * \n",
    "\n",
    "x = symbols('x')\n",
    "f = 2*x - 2\n",
    "\n",
    "plot(f,xlim=(-5,5), ylim=(-5,5)) "
   ]
  },
  {
   "cell_type": "markdown",
   "id": "f9f532e8-c09a-424e-ac3c-b1a54518cfeb",
   "metadata": {},
   "source": [
    "Now let's say you wanted to find the area under the function between $ x = 1 $ and $ x = 3 $, but above the x-axis. Let's shade it by passing the `fill` parameter below to `plot()`. "
   ]
  },
  {
   "cell_type": "code",
   "execution_count": null,
   "id": "e6ee1253-53b9-45cc-ad0c-d22665824bd6",
   "metadata": {},
   "outputs": [],
   "source": [
    "from sympy import * \n",
    "import numpy as np \n",
    "\n",
    "x = symbols('x')\n",
    "f = 2*x - 2\n",
    "\n",
    "x_array = np.linspace(1, 3, 1000)\n",
    "f_array = lambdify(x, f)(x_array)\n",
    "\n",
    "plot(f, xlim=(-5,5), ylim=(-5,5), fill={'x': x_array,'y1':f_array, 'alpha': .5}) "
   ]
  },
  {
   "cell_type": "markdown",
   "id": "f54f429d-7803-4042-82a0-6b4f26ab250f",
   "metadata": {},
   "source": [
    "Calculating this area is not a terribly big deal. We can see clearly this is a triangle and we can use that basic geometry formula: \n",
    "\n",
    "$ \n",
    "\\Large A = \\frac{1}{2} bh\n",
    "$ \n",
    "\n",
    "So if the base is $ 2 $ and the height is $ 4 $, we find the area is $ 4 $. \n",
    "\n",
    "\n",
    "$ \n",
    "\\Large A = \\frac{1}{2} (2)(4) = 4\n",
    "$ \n",
    "\n",
    "We can also use the `integrate()` function in SymPy to calculate the area for this range. We will explore this function more in a moment. "
   ]
  },
  {
   "cell_type": "code",
   "execution_count": null,
   "id": "b3aa2b71-0695-4008-8560-9babcfc884f5",
   "metadata": {},
   "outputs": [],
   "source": [
    "from sympy import * \n",
    "\n",
    "x = symbols('x')\n",
    "f = 2*x - 2\n",
    "\n",
    "integrate(f, (x,1,3))"
   ]
  },
  {
   "cell_type": "markdown",
   "id": "4943cabc-7aa9-450f-baaf-d7b97e0f6a82",
   "metadata": {},
   "source": [
    "Now what about a curvilinear function that is not a straight line. What is the area between $ 0 $ and $ 1 $? \n",
    "\n",
    "$\n",
    "\\Large f(x) = 2 x^{2} + 1\n",
    "$"
   ]
  },
  {
   "cell_type": "code",
   "execution_count": null,
   "id": "f7881a20-f743-4463-9516-3dc7d66ef40a",
   "metadata": {},
   "outputs": [],
   "source": [
    "from sympy import * \n",
    "import numpy as np \n",
    "\n",
    "x = symbols('x')\n",
    "f = 2*x**2 + 1\n",
    "\n",
    "x_array = np.linspace(0, 1, 1000)\n",
    "f_array = lambdify(x, f)(x_array)\n",
    "\n",
    "plot(f, xlim=(-2,2), ylim=(-1,5), fill={'x': x_array,'y1':f_array, 'alpha': .5}) "
   ]
  },
  {
   "cell_type": "markdown",
   "id": "2d3b2499-e951-4fb1-8822-4601a9250257",
   "metadata": {},
   "source": [
    "Uh-oh. This is not as straightforward as we no longer have straight edges to calculate against. Now coincidentally, we can use the SymPy to calculate this using the `integrate()` function once again. We get an area of $ 5/3 $. "
   ]
  },
  {
   "cell_type": "code",
   "execution_count": null,
   "id": "df013aea-1139-4bc6-aacf-d03fad85f66a",
   "metadata": {},
   "outputs": [],
   "source": [
    "from sympy import * \n",
    "\n",
    "x = symbols('x')\n",
    "f = 2*x**2 + 1\n",
    "\n",
    "integrate(f, (x,0,1))"
   ]
  },
  {
   "cell_type": "markdown",
   "id": "b717c29a-4663-4bb9-8394-d5e7ca8dbe28",
   "metadata": {},
   "source": [
    "But how does this even work? How can we find the area under a given function like this? Well, it all comes down to once again... a limit! "
   ]
  },
  {
   "cell_type": "markdown",
   "id": "0176e217-8a33-431e-9bf8-b9e0cbc8c011",
   "metadata": {},
   "source": [
    "## Reimann Sums"
   ]
  },
  {
   "cell_type": "markdown",
   "id": "de73e5c5-3aff-4e6e-93e5-c33988dc37e1",
   "metadata": {},
   "source": [
    "Here is how we can reason about finding the area under any given function. Let's say we packed some rectangles of equal width under the function for the given range we are interested in. We will create a `plot_reimann_sums()` function that does just this, and let's start with 5 rectangles. "
   ]
  },
  {
   "cell_type": "code",
   "execution_count": null,
   "id": "a3d84c13-30c6-41bc-a2f7-2760be147b9c",
   "metadata": {},
   "outputs": [],
   "source": [
    "import matplotlib.pyplot as plt\n",
    "from matplotlib.patches import Rectangle\n",
    "import numpy as np \n",
    "\n",
    "def plot_reimann_sums(f, x_axis_lower, x_axis_upper, x_lower, x_upper, n_rects): \n",
    "    \n",
    "    # Define the interval for the x-axis\n",
    "    x_vals = np.linspace(x_axis_lower, x_axis_upper, 1000)\n",
    "    \n",
    "    # Calculate the function values for the x-axis values\n",
    "    y_vals = f(x_vals)\n",
    "    \n",
    "    # Create the plot\n",
    "    fig, ax = plt.subplots()\n",
    "\n",
    "    # Define the rectangles\n",
    "    x_rects = np.linspace(x_lower, x_upper, n_rects+1)\n",
    "    y_rects = f(x_rects)\n",
    "\n",
    "    # plot rectangles \n",
    "    for x,y,next_x in zip(x_rects, y_rects, x_rects[1:]): \n",
    "        ax.add_patch(Rectangle((x, 0), next_x-x, y, alpha=.5, color='orange'))\n",
    "\n",
    "    plt.plot(x_vals, y_vals)\n",
    "    \n",
    "    # Show the plot\n",
    "    plt.show()\n",
    "\n",
    "def f(x): return 2*x**2 + 1\n",
    "    \n",
    "plot_reimann_sums(f, x_axis_lower=-2, x_axis_upper=2, x_lower=0, x_upper=1, n_rects=5)"
   ]
  },
  {
   "cell_type": "markdown",
   "id": "d6ce11a9-3df2-489d-9ff3-bad5e8cab8e9",
   "metadata": {},
   "source": [
    "Rectangles are easy to take the area of, right? So we can approximate the area by totaling the area under the rectangles. But what if we used more rectangles with smaller widths? What do 10 rectangles look like? "
   ]
  },
  {
   "cell_type": "code",
   "execution_count": null,
   "id": "52dc482e-03d3-4ea3-aa47-1fda2ccebf89",
   "metadata": {},
   "outputs": [],
   "source": [
    "plot_reimann_sums(f, x_axis_lower=-2, x_axis_upper=2, x_lower=0, x_upper=1, n_rects=10)"
   ]
  },
  {
   "cell_type": "markdown",
   "id": "c9822633-df7f-4caa-95f9-57862f634ea7",
   "metadata": {},
   "source": [
    "What about 20 rectangles? "
   ]
  },
  {
   "cell_type": "code",
   "execution_count": null,
   "id": "bc054ced-9cb9-4420-945a-2328f351bfb3",
   "metadata": {},
   "outputs": [],
   "source": [
    "plot_reimann_sums(f, x_axis_lower=-2, x_axis_upper=2, x_lower=0, x_upper=1, n_rects=20)"
   ]
  },
  {
   "cell_type": "markdown",
   "id": "fb3ce1fe-067c-456a-a4a9-12af5dffc56b",
   "metadata": {},
   "source": [
    "Is it fair to say that the more rectangles we have, and total their areas, the closer we get to the actual area for that range under the curve? This approach is what we call **Reimann Sums**. Wait a minute, this is a limit! As we approach the number of rectangles to infinity, would that not converge to the actual area under the curve? \n",
    "\n",
    "Let's run an approximation using 10,000 rectangles, no chart. Let's put it into this function that roughly approximates using this Reimann Sums approach. "
   ]
  },
  {
   "cell_type": "code",
   "execution_count": null,
   "id": "e8fbcbf0-a4f3-40bf-bf4c-4417bc7779b7",
   "metadata": {},
   "outputs": [],
   "source": [
    "def approximate_integral(a, b, n, f):\n",
    "    delta_x = (b - a) / n\n",
    "    total_sum = 0\n",
    "\n",
    "    for i in range(1, n + 1):\n",
    "        leftpoint = a + delta_x * (i - 1)\n",
    "        total_sum += f(leftpoint)\n",
    "\n",
    "    return total_sum * delta_x\n",
    "\n",
    "area = approximate_integral(a=0, b=1, n=10_000, f=f)\n",
    "\n",
    "print(area) # 1.6665666699999973"
   ]
  },
  {
   "cell_type": "markdown",
   "id": "065bfc32-e369-4197-ae23-342ffb60e910",
   "metadata": {},
   "source": [
    "Let's get more precise here. Let's use SymPy and approach an infinite number of rectangles and sum them. Sure enough, we get $ 5 / 3 $. "
   ]
  },
  {
   "cell_type": "code",
   "execution_count": null,
   "id": "766d27ee-123e-4687-ae3e-2ce78aa322ba",
   "metadata": {},
   "outputs": [],
   "source": [
    "from sympy import *\n",
    "\n",
    "# Declare variables to SymPy\n",
    "x, i, n = symbols('x i n')\n",
    "\n",
    "# Declare function and range\n",
    "f = 2*x**2 + 1\n",
    "lower, upper = 0, 1\n",
    "\n",
    "# Calculate width and each rectangle height at index \"i\"\n",
    "delta_x = ((upper - lower) / n)\n",
    "x_i = (lower + delta_x * i)\n",
    "fx_i = f.subs(x, x_i)\n",
    "\n",
    "# Iterate all \"n\" rectangles and sum their areas\n",
    "n_rectangles = Sum(delta_x * fx_i, (i, 1, n)).doit()\n",
    "\n",
    "# Calculate the area by approaching the number\n",
    "# of rectangles \"n\" to infinity\n",
    "area = limit(n_rectangles, n, oo)\n",
    "\n",
    "area # prints 5/3"
   ]
  },
  {
   "cell_type": "markdown",
   "id": "996c6b82-6a1e-472f-9ff2-47882783397b",
   "metadata": {},
   "source": [
    "Thankfully, like derivatives we do not have to do all this limit work. Instead we can use the `integrate()` function as we showed earlier. It will take all the limit work behind the scenes. "
   ]
  },
  {
   "cell_type": "code",
   "execution_count": null,
   "id": "6605e3f1-9ae1-4086-9505-e7f1481db2ef",
   "metadata": {
    "scrolled": true
   },
   "outputs": [],
   "source": [
    "from sympy import * \n",
    "\n",
    "x = symbols('x')\n",
    "f = 2*x**2 + 1\n",
    "\n",
    "integrate(f, (x,0,1))"
   ]
  },
  {
   "cell_type": "markdown",
   "id": "f877b8d8-68c3-4b09-b2bf-81697eeb3e5a",
   "metadata": {},
   "source": [
    "Note when we provide a range as we have shown in the previous example, we call it a **definite integral**. We denote it like this: \n",
    "\n",
    "$\n",
    "\\Large \\int_{0}^{1} (2x^2 + 1) = \\frac{5}{3}\n",
    "$\n",
    "\n",
    "\n",
    "If we wanted to generalize the integral function without any specific range, we call it an **indefinite integral**. \n",
    "\n",
    "$\n",
    "\\Large \\int (2x^2 + 1) = \\frac{2 x^{3}}{3} + x\n",
    "$\n",
    "\n",
    "We can calculate an indefinite integral like this in SymPy. "
   ]
  },
  {
   "cell_type": "code",
   "execution_count": null,
   "id": "c89677ae-e09e-460a-bed1-347010efdac4",
   "metadata": {},
   "outputs": [],
   "source": [
    "from sympy import * \n",
    "\n",
    "x = symbols('x')\n",
    "f = 2*x**2 + 1\n",
    "\n",
    "integrate(f,x)"
   ]
  },
  {
   "cell_type": "markdown",
   "id": "7031cc2e-057e-40c9-812b-b91d6cced053",
   "metadata": {},
   "source": [
    "Keep in mind that the indefinite integral captures the area from negative infinity up to the given $ x $ value. So if we wanted to calculate the area from $ x = 0 $ to $ x = 1 $, then substitute both values into the indefinite integral, and subtract the latter from the former. \n",
    "\n",
    "$ \n",
    "\\Large \\int_{0}^{1} (2x^2 + 1) = (\\frac{2 (1)^{3}}{3} + 1) - (\\frac{2 (0)^{3}}{3} + 0) = \\frac{5}{3}\n",
    "$ "
   ]
  },
  {
   "cell_type": "markdown",
   "id": "079f6064-bb89-4c87-a600-e519dbbff11c",
   "metadata": {},
   "source": [
    "## Normal Distribution Example "
   ]
  },
  {
   "cell_type": "markdown",
   "id": "4671b864-3c87-4902-a9bc-0e9e336a72e6",
   "metadata": {},
   "source": [
    "Here is an applied example of integrals, one that is used quite frequently in statistics. Whenever we work with continuous probability distributions, we have to find areas under the curve (the probability density function) to calculate probabilities for a given range of $ x $ values. Typically, to calculate these areas we use a cumulative density function, which we will prove is just an integral. \n",
    "\n",
    "A common distribution is a normal distribution, whose probability density function is formulated by: "
   ]
  },
  {
   "cell_type": "markdown",
   "id": "f6c73abb-816a-49df-93dd-04ea7ba9d98b",
   "metadata": {},
   "source": [
    "\n",
    "\n",
    "$\n",
    "\\Large f(x) = \\frac{1}{\\sigma \\sqrt{2\\pi}} e^{-\\frac{1}{2}(\\frac{x-\\mu}{\\sigma})^2}\n",
    "$"
   ]
  },
  {
   "cell_type": "markdown",
   "id": "7826c8fd-ead3-4239-8af7-60039cc9ca97",
   "metadata": {},
   "source": [
    "$ \\mu $ is the mean, $ \\sigma $ is the standard deviation, and $ e $ is Euler's number which we learned about. The $ x $ value is the input variable. This will produce the famous bell curve, which we can plot in SymPy below. To keep things simple, let's make the mean $ 0 $ and standard deviation $ 1 $ which defines a standard normal distribution. "
   ]
  },
  {
   "cell_type": "code",
   "execution_count": null,
   "id": "4c9a4165-a162-4e63-84ed-c1c7b9b59d39",
   "metadata": {
    "scrolled": true
   },
   "outputs": [],
   "source": [
    "from sympy import * \n",
    "\n",
    "x,u,s = symbols('x u s')\n",
    "f = 1 / (s * sqrt(2*pi)) * E**(-1/2 * ((x - u)/s)**2)\n",
    "\n",
    "# a standard normal distribution has a \n",
    "# mean of 0 and a standard deviation of 1 \n",
    "standard_normal = f.subs([(u,0), (s, 1)])\n",
    "\n",
    "plot(standard_normal, xlim=(-4,4), ylim=(-0,.5))"
   ]
  },
  {
   "cell_type": "markdown",
   "id": "1196bfbb-cfe9-41eb-abbc-38dd71063f94",
   "metadata": {},
   "source": [
    "Let's calculate the area up to  $ x = 1 $, which is shaded below. "
   ]
  },
  {
   "cell_type": "code",
   "execution_count": null,
   "id": "90b76294-b016-4a6d-a7f7-ebd8f24bf5dd",
   "metadata": {},
   "outputs": [],
   "source": [
    "x_array = np.linspace(-4, 1, 1000)\n",
    "f_array = lambdify(x, standard_normal)(x_array)\n",
    "\n",
    "plot(standard_normal, xlim=(-4,4), ylim=(-0,.5), fill={'x': x_array,'y1':f_array, 'alpha': .5})"
   ]
  },
  {
   "cell_type": "markdown",
   "id": "d81dc58a-1491-4601-9a2a-3ceb6bab4afa",
   "metadata": {},
   "source": [
    "Let's calculate this area up to $ 1 $ using the `integrate()` function. Again, we will use the standard normal distribution which has $ \\mu $ and $ \\sigma $ substituted for $ 0 $ and $ 1 $ respectively. Note that the tails in a normal distribution extend to infinity and forever approach the x-axis. We will therefore include negative infinity as the start of the range, and 1 as the end of the range. "
   ]
  },
  {
   "cell_type": "code",
   "execution_count": null,
   "id": "c91ed100-4cf9-4f8f-8ca3-3d8ce3a7f96f",
   "metadata": {
    "scrolled": true
   },
   "outputs": [],
   "source": [
    "integrate(standard_normal,(x,-oo, 1)).evalf()"
   ]
  },
  {
   "cell_type": "markdown",
   "id": "65f552d1-6e52-43ba-907a-99435f5a9d7e",
   "metadata": {},
   "source": [
    "So this area between negative infinity and $ 1 $ yields an area of $ 0.8413 $. Sure enough, if we compared this with SciPy's calculation using the cumulative density function, we get almost exactly the same answer. This shows sure enough, the cumulative density function `cdf()` is just an integration operation. "
   ]
  },
  {
   "cell_type": "code",
   "execution_count": null,
   "id": "9421eb44-7b9a-470d-8c4a-56555172a9bf",
   "metadata": {},
   "outputs": [],
   "source": [
    "from scipy.stats import norm \n",
    "\n",
    "norm.cdf(1, 0, 1) # x, mean, std"
   ]
  },
  {
   "cell_type": "markdown",
   "id": "16b9e3de-b5f5-4a04-a2a0-7f62c958267b",
   "metadata": {},
   "source": [
    "## Exercise\n",
    "\n",
    "For this function: \n",
    "\n",
    "$ \n",
    "f(x) = 5x^3 - 10 \n",
    "$ \n",
    "\n",
    "Calculate the area from $ x = 2 $ to $ x = 3 $ by replacing the question mark below. "
   ]
  },
  {
   "cell_type": "code",
   "execution_count": null,
   "id": "e7390866-981e-40f7-8cfb-045b3481af62",
   "metadata": {},
   "outputs": [],
   "source": [
    "from sympy import * \n",
    "\n",
    "x = symbols('x')\n",
    "f = 5*x**3 - 10 \n",
    "\n",
    "?"
   ]
  },
  {
   "cell_type": "markdown",
   "id": "0c41a771-3306-45ea-b782-d31729f8e499",
   "metadata": {},
   "source": [
    "### SCROLL DOWN FOR ANSWER\n",
    "|<br>\n",
    "|<br>\n",
    "|<br>\n",
    "|<br>\n",
    "|<br>\n",
    "|<br>\n",
    "|<br>\n",
    "|<br>\n",
    "|<br>\n",
    "|<br>\n",
    "|<br>\n",
    "|<br>\n",
    "|<br>\n",
    "|<br>\n",
    "|<br>\n",
    "|<br>\n",
    "|<br>\n",
    "|<br>\n",
    "|<br>\n",
    "|<br>\n",
    "|<br>\n",
    "|<br>\n",
    "|<br>\n",
    "v "
   ]
  },
  {
   "cell_type": "markdown",
   "id": "048e15af-4532-4e3b-8aff-3acc2911656b",
   "metadata": {},
   "source": [
    "You should find an area of $ \\frac{258}{4} $ by using the `integrate()` function. "
   ]
  },
  {
   "cell_type": "code",
   "execution_count": null,
   "id": "a64aecc2-1155-4fbe-99db-65540b5935ac",
   "metadata": {},
   "outputs": [],
   "source": [
    "from sympy import * \n",
    "\n",
    "x = symbols('x')\n",
    "f = 5*x**3 - 10 \n",
    "\n",
    "integrate(f, (x,2,3))"
   ]
  }
 ],
 "metadata": {
  "kernelspec": {
   "display_name": "Python 3 (ipykernel)",
   "language": "python",
   "name": "python3"
  },
  "language_info": {
   "codemirror_mode": {
    "name": "ipython",
    "version": 3
   },
   "file_extension": ".py",
   "mimetype": "text/x-python",
   "name": "python",
   "nbconvert_exporter": "python",
   "pygments_lexer": "ipython3",
   "version": "3.11.5"
  }
 },
 "nbformat": 4,
 "nbformat_minor": 5
}
