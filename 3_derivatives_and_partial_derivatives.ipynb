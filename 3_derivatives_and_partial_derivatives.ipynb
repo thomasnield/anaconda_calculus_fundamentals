{
 "cells": [
  {
   "cell_type": "markdown",
   "id": "2f1fb9d5-7f43-43a5-b4b3-07bf29ad2231",
   "metadata": {},
   "source": [
    "# Derivatives and Partial Derivatives"
   ]
  },
  {
   "cell_type": "markdown",
   "id": "d7a9eaf8-5bb4-4d20-b87d-3f5e94b066a3",
   "metadata": {},
   "source": [
    "With the idea of limits under our belts, we will explore one of their most useful applications in Calculus: the derivative. A **derivative** is a function that outputs the slope of another function. Measuring the rate of change at different parts of a function is useful in machine learning and data science applications, particularly in gradient descent and stochastic gradient descent. This is the *learning* part of machine learning and we will discuss this later. For now, let's get the building blocks in place first."
   ]
  },
  {
   "cell_type": "markdown",
   "id": "2f2f9fc0-6c0c-450f-b0f4-cb574b8c44dd",
   "metadata": {},
   "source": [
    "## Secant and Tangent Lines"
   ]
  },
  {
   "cell_type": "markdown",
   "id": "634c31c2-f831-44c6-bf6a-252683b4595f",
   "metadata": {},
   "source": [
    "Let's say you needed to find the slope of this function at $ x = 2 $. \n",
    "\n",
    "$\n",
    "\\Large f(x) = .75x^2\n",
    "$\n",
    "\n",
    "One way you can approximate this slope is by getting the point at $ x = 2 $ and then choosing a close neighbor to $ x $, like $ x = 3.5 $. We can then draw a **secant line** through both points and get its slope using the rise-over-run formula. \n",
    "\n",
    "$\n",
    "\\Large m = \\frac{x_2 - x_1}{y_2 - y_1}\n",
    "$\n",
    "\n",
    "We will bring this value in closer, but for now let's start the neighboring point at $ x_2 = 3.5 $. "
   ]
  },
  {
   "cell_type": "code",
   "execution_count": null,
   "id": "dd26f2ea-5032-454a-9eda-1763b67f9481",
   "metadata": {},
   "outputs": [],
   "source": [
    "import matplotlib.pyplot as plt\n",
    "import numpy as np \n",
    "\n",
    "def plot_with_secant(f, x1, x2): \n",
    "    \n",
    "    # Define the interval for the x-axis\n",
    "    x_vals = np.linspace(-4, 4, 1000)\n",
    "    \n",
    "    # Calculate the function values for the x-axis values\n",
    "    y_vals = f(x_vals)\n",
    "    \n",
    "    # Create the plot\n",
    "    plt.plot(x_vals, y_vals)\n",
    "    \n",
    "    # Define the secant line\n",
    "    y1, y2 = f(x1), f(x2)\n",
    "    \n",
    "    # Calculate the slope of the secant line\n",
    "    m = (y2 - y1) / (x2 - x1)\n",
    "    print(f\"The slope is {m}\")\n",
    "    \n",
    "    # Calculate the y-intercept of the secant line\n",
    "    b = y1 - m * x1\n",
    "    \n",
    "    # Draw the secant line\n",
    "    x_secant = x_vals \n",
    "    y_secant = m*x_vals+b\n",
    "\n",
    "    # chop off line to stay in range of parabola's y-axis \n",
    "    x_secant = x_secant[(y_secant <= np.max(y_vals)) & (y_secant >= np.min(y_vals))]\n",
    "    y_secant = m*x_secant+b\n",
    "\n",
    "    # plot secant line \n",
    "    plt.plot(x_secant, y_secant)\n",
    "\n",
    "    # plot secant points\n",
    "    plt.plot([x1,x2],[y1,y2], 'o')\n",
    "    \n",
    "    # Add labels and title\n",
    "    plt.xlabel('X')\n",
    "    plt.ylabel('Y')\n",
    "    plt.title('Function f(x) with Secant Line')\n",
    "    \n",
    "    # Show the plot\n",
    "    plt.show()\n",
    "\n",
    "def f(x): return .75*x**2\n",
    "    \n",
    "plot_with_secant(f, 2, 3.5)"
   ]
  },
  {
   "cell_type": "markdown",
   "id": "4c2fa10c-fb32-4f76-855c-69479e82bf39",
   "metadata": {},
   "source": [
    "Now what happens if we bring that neighboring point in closer?"
   ]
  },
  {
   "cell_type": "code",
   "execution_count": null,
   "id": "f72bc658-8dfd-423b-be43-69dc191b826b",
   "metadata": {},
   "outputs": [],
   "source": [
    "plot_with_secant(f,2,3)"
   ]
  },
  {
   "cell_type": "code",
   "execution_count": null,
   "id": "d7ba60d8-2613-42bc-a4df-a910edd80d2c",
   "metadata": {},
   "outputs": [],
   "source": [
    "plot_with_secant(f, 2, 2.1)"
   ]
  },
  {
   "cell_type": "code",
   "execution_count": null,
   "id": "1515073b-4609-489d-9552-6b5b472137c4",
   "metadata": {
    "scrolled": true
   },
   "outputs": [],
   "source": [
    "plot_with_secant(f, 2, 2.001)"
   ]
  },
  {
   "cell_type": "markdown",
   "id": "2c451fa0-f360-4521-9462-998f865dea0b",
   "metadata": {},
   "source": [
    "More generally, if we have a function $ f(x) $ and we want to find the slope at a given $ x $, we can approximate it by drawing the **secant line** that also crosses a close neighboring point at $ x + h $. The slope of that secant line can be approximated by decreasing $ h $. \n",
    "\n",
    "$ \n",
    "\\Large m = \\frac{f(x + h) - f(x)}{(x + h) - x}\n",
    "$\n",
    "\n",
    "More properly, we can use a limit to forever decrease $ h $ towards 0 but never each 0. \n",
    "\n",
    "![lim](https://latex.codecogs.com/svg.image?&space;m=\\lim_{h\\to0}\\frac{f(x&plus;h)-f(x)}{(x&plus;h)-x})"
   ]
  },
  {
   "cell_type": "markdown",
   "id": "1bd68f24-7eb0-4251-b507-8dc2a8d2b4f9",
   "metadata": {},
   "source": [
    "Let's substitute $ x = 2 $ into this formula, and calculate the limit by approaching $ h $ to 0. We can calculate cleanly that the slope is $ 3 $! The resulting line would no longer be a secant line, but rather a **tangent line** as we have converged both points using a limit. "
   ]
  },
  {
   "cell_type": "code",
   "execution_count": null,
   "id": "418e76ee-d0d8-4a19-b478-fa24ddd2b79b",
   "metadata": {},
   "outputs": [],
   "source": [
    "from sympy import * \n",
    "\n",
    "x,h = symbols('x h')\n",
    "\n",
    "f = .75*x**2\n",
    "\n",
    "# calculate the slope for x and its neighbor\n",
    "m = (f.subs(x, x+h) - f) / (x+h - x)\n",
    "\n",
    "# substitute x = 2 \n",
    "m = m.subs(x, 2)\n",
    "\n",
    "# calculate the slope by approaching h to 0 \n",
    "limit(m,h,0)"
   ]
  },
  {
   "cell_type": "markdown",
   "id": "598bdd79-68f6-4918-a44d-8d65ad1767e3",
   "metadata": {},
   "source": [
    "We can generalize this and look up the slope for any given $ x $ value, simply by not subsituting a value for $ x $ in our limit. "
   ]
  },
  {
   "cell_type": "code",
   "execution_count": null,
   "id": "55d48671-25a6-4056-adca-96f8a83e7b43",
   "metadata": {
    "scrolled": true
   },
   "outputs": [],
   "source": [
    "from sympy import * \n",
    "\n",
    "x,h = symbols('x h')\n",
    "\n",
    "f = .75*x**2\n",
    "\n",
    "# calculate the slope for x and its neighbor\n",
    "m = (f.subs(x, x+h) - f) / (x+h - x)\n",
    "\n",
    "# calculate the slope by approaching h to 0 \n",
    "limit(m,h,0)"
   ]
  },
  {
   "cell_type": "markdown",
   "id": "08001ac4-2ac8-4a57-8f5f-0300fed360d9",
   "metadata": {},
   "source": [
    "We get the derivative function `f'(x)` which tells us the slope of $ f(x) $ at any given x-value. \n",
    "\n",
    "$ \n",
    "f'(x) = \\frac{3}{2}x\n",
    "$ "
   ]
  },
  {
   "cell_type": "markdown",
   "id": "acad64fc-5914-40e3-83a3-440ca4d6ddaf",
   "metadata": {},
   "source": [
    "Thankfully we do not have to calculate limits every time we want to calculate a slope or derivative. SymPy actually has a `diff()` function that will do this for us. "
   ]
  },
  {
   "cell_type": "markdown",
   "id": "f9a227e0-7d11-476f-bae7-7d51bad7cacd",
   "metadata": {},
   "source": [
    "## Derivatives \n",
    "\n",
    "As we discovered above, a **derivative** is a function that tells the slope for another function, at any given input $ x $. We can use SymPy's `diff()` function to calculate the derivative of a function `f` with respect to `x`. \n"
   ]
  },
  {
   "cell_type": "code",
   "execution_count": null,
   "id": "8b78e70e-6447-4cd2-b7e1-4936039f4e4e",
   "metadata": {},
   "outputs": [],
   "source": [
    "from sympy import * \n",
    "\n",
    "x = symbols('x')\n",
    "f = .75*x**2\n",
    "\n",
    "dx_f = diff(f, x)\n",
    "dx_f"
   ]
  },
  {
   "cell_type": "markdown",
   "id": "04718ffb-c1c2-4671-a416-87413ca1fad7",
   "metadata": {},
   "source": [
    "This means at $ x = 1 $, the slope is $ 1.5$. At $ x = 2 $, the slope is $ 3 $. At $ x = 5 $, the slope is $ 7.5 $, and so on... \n",
    "\n",
    "It can be interesting to plot a function along with its derivative. Notice how for this function $ f(x) = .75x^2 $ and its derivative $ f'(x) = 1.5x^2 $, the former is a parabola but the latter is linear. Remember that the derivative $f'(x) $ tells the slope at each given $ x $ value for $ f(x) $.  "
   ]
  },
  {
   "cell_type": "code",
   "execution_count": null,
   "id": "8a584a00-534d-41d0-8152-3bbd93f21ce9",
   "metadata": {},
   "outputs": [],
   "source": [
    "from sympy import * \n",
    "\n",
    "x = symbols('x')\n",
    "f = .75*x**2\n",
    "\n",
    "dx_f = diff(f, x)\n",
    "\n",
    "plot(f, dx_f, xlim=(-4,4), ylim=(-4,4))"
   ]
  },
  {
   "cell_type": "markdown",
   "id": "95c73f12-b509-414e-92d5-d29345770de3",
   "metadata": {},
   "source": [
    "Don't confuse the plot of the derivative for the tangent or secant line. The plot of the derivative is outputting all the slopes for each x-value. The tangent/secant line visualizes the slope itself against the target function. "
   ]
  },
  {
   "cell_type": "markdown",
   "id": "93ef423b-dc68-4340-9391-8980882e5890",
   "metadata": {},
   "source": [
    "## Partial Derivatives"
   ]
  },
  {
   "cell_type": "markdown",
   "id": "015eeee6-0cc8-4bc5-8ac2-2531e8ef159f",
   "metadata": {},
   "source": [
    "It is possible to have derivatives with respect to more than one input variable. As a matter of fact, this is a fundamental idea in multivariable calculus. \n",
    "\n",
    "Take this function. \n",
    "\n",
    "$ \n",
    "\\Large f(x,y) = .15x^3 + 5y^2 + 1 \n",
    "$"
   ]
  },
  {
   "cell_type": "markdown",
   "id": "2dc8aa55-0a35-4122-8fac-d9b8f4b5c459",
   "metadata": {},
   "source": [
    "Using 3D plots in SymPy, let's plot this function. Notice we have slopes with respect to the $ x $ direction and slopes with respect to the $ y $ direction. "
   ]
  },
  {
   "cell_type": "code",
   "execution_count": null,
   "id": "7be503fb-1418-4e17-9363-43246f5e17f3",
   "metadata": {},
   "outputs": [],
   "source": [
    "from sympy import * \n",
    "from sympy.plotting import plot3d\n",
    "\n",
    "x, y = symbols('x y')\n",
    "\n",
    "f = .15 * x**3 + 5*y**2 + 1 \n",
    "\n",
    "plot3d(f)"
   ]
  },
  {
   "cell_type": "markdown",
   "id": "f56e86b0-7d2f-4d68-b48d-9f29fa1c99f0",
   "metadata": {},
   "source": [
    "We can target separate derivatives with respect to $ x $ and $ y $, which we denote as...\n",
    "\n",
    "$ \n",
    "\\Large \\frac{\\delta}{\\delta x} \n",
    "$   \n",
    "\n",
    "$ \n",
    "\\Large \\frac{\\delta}{\\delta y} \n",
    "$\n",
    "\n",
    "We can use SymPy to calculate these derivatives with respect to $ x $ and $ y $ separately using the same pattern we would for a single variable. "
   ]
  },
  {
   "cell_type": "code",
   "execution_count": null,
   "id": "b384c91b-e8ac-4933-8b38-4d854f8da098",
   "metadata": {},
   "outputs": [],
   "source": [
    "from sympy import * \n",
    "\n",
    "x, y = symbols('x y')\n",
    "f = .15 * x**3 + 5*y**2 + 1 \n",
    "\n",
    "dx = diff(f, x)\n",
    "dy = diff(f, y) "
   ]
  },
  {
   "cell_type": "code",
   "execution_count": null,
   "id": "a0d8ebf6-8b40-45c4-aede-ff87b1b3a853",
   "metadata": {},
   "outputs": [],
   "source": [
    "dx"
   ]
  },
  {
   "cell_type": "code",
   "execution_count": null,
   "id": "94382f45-f085-42a5-885a-14fefad91a42",
   "metadata": {},
   "outputs": [],
   "source": [
    "dy"
   ]
  },
  {
   "cell_type": "markdown",
   "id": "a594b706-01c6-4974-8e03-0425905bd636",
   "metadata": {},
   "source": [
    "So what would be the slope with respect to $ x $ and $ y $ at $ x = 2 $ and $ y = 1 $? "
   ]
  },
  {
   "cell_type": "markdown",
   "id": "b7f29573-67d8-4aac-8c32-e11b123f1b66",
   "metadata": {},
   "source": [
    "\n",
    "$ \n",
    "\\Large \\frac{\\delta}{\\delta x} = 0.45x^2\n",
    "$   \n",
    "\n",
    "$ \n",
    "\\Large \\frac{\\delta}{\\delta y} = 10y\n",
    "$\n",
    "\n",
    "\n"
   ]
  },
  {
   "cell_type": "markdown",
   "id": "4c2b8385-d88d-4915-9811-ea0c2c940120",
   "metadata": {},
   "source": [
    "If we calculated using simple substitution or, SymPy, we would find the slope with respect to $ x $ is 1.8 and the slope with respect to $ y $ is $ 10 $. "
   ]
  },
  {
   "cell_type": "code",
   "execution_count": null,
   "id": "e5b59a67-20a4-459f-ab46-c418a0142f9b",
   "metadata": {},
   "outputs": [],
   "source": [
    "dx.subs(x,2), dy.subs(y,1)"
   ]
  },
  {
   "cell_type": "markdown",
   "id": "47a7715b-16ba-48a0-a416-75274bc8e198",
   "metadata": {},
   "source": [
    "## Exercise\n",
    "\n",
    "For this function: \n",
    "\n",
    "$ \n",
    "f(x) = 5x^3 - 10 \n",
    "$ \n",
    "\n",
    "Calculate the slope at $ x = -1 $ by completing the code (replacing the question marks \"?\") below. "
   ]
  },
  {
   "cell_type": "code",
   "execution_count": null,
   "id": "aa918a8c-19f7-4378-9767-5110fec4e5d0",
   "metadata": {},
   "outputs": [],
   "source": [
    "from sympy import * \n",
    "\n",
    "x = symbols('x')\n",
    "f = 5*x**3 - 10 \n",
    "\n",
    "dx = ?\n",
    "dx.subs(?, ?)"
   ]
  },
  {
   "cell_type": "markdown",
   "id": "17142979-1cb9-470a-bfae-79ef55c8935a",
   "metadata": {},
   "source": [
    "### SCROLL DOWN FOR ANSWER\n",
    "|<br>\n",
    "|<br>\n",
    "|<br>\n",
    "|<br>\n",
    "|<br>\n",
    "|<br>\n",
    "|<br>\n",
    "|<br>\n",
    "|<br>\n",
    "|<br>\n",
    "|<br>\n",
    "|<br>\n",
    "|<br>\n",
    "|<br>\n",
    "|<br>\n",
    "|<br>\n",
    "|<br>\n",
    "|<br>\n",
    "|<br>\n",
    "|<br>\n",
    "|<br>\n",
    "|<br>\n",
    "|<br>\n",
    "v "
   ]
  },
  {
   "cell_type": "markdown",
   "id": "4a8014d8-1261-434a-925f-570531a915e7",
   "metadata": {},
   "source": [
    "The slope of $ f(x) $ at $ x = -1 $ is 15. "
   ]
  },
  {
   "cell_type": "code",
   "execution_count": null,
   "id": "bf304c01-b14c-434c-b217-03cae3f319b1",
   "metadata": {},
   "outputs": [],
   "source": [
    "from sympy import * \n",
    "\n",
    "x = symbols('x')\n",
    "f = 5*x**3 - 10 \n",
    "\n",
    "dx = diff(f, x)\n",
    "dx.subs(x, -1)"
   ]
  }
 ],
 "metadata": {
  "kernelspec": {
   "display_name": "Python 3 (ipykernel)",
   "language": "python",
   "name": "python3"
  },
  "language_info": {
   "codemirror_mode": {
    "name": "ipython",
    "version": 3
   },
   "file_extension": ".py",
   "mimetype": "text/x-python",
   "name": "python",
   "nbconvert_exporter": "python",
   "pygments_lexer": "ipython3",
   "version": "3.11.5"
  }
 },
 "nbformat": 4,
 "nbformat_minor": 5
}
