{
 "cells": [
  {
   "cell_type": "markdown",
   "id": "9b46fe39-6483-4b97-978d-62fcb517b696",
   "metadata": {},
   "source": [
    "# SymPy Basics and Functions"
   ]
  },
  {
   "cell_type": "markdown",
   "id": "c1ce66fd-7e00-452a-98ec-6b543c30a886",
   "metadata": {},
   "source": [
    "To kick things off, we will learn some basic math review as well as fundamental usage of **SymPy**, a symbolic math library that comes packaged with Anaconda. There are a lot of exciting and useful features in SymPy that  make learning linear algebra, functions, and calculus much less tedious than what you learned in high school and college. \n",
    "\n",
    "Let's get started and talk about some number theory before going into SymPy and functions. "
   ]
  },
  {
   "cell_type": "markdown",
   "id": "5c8515d4-59a1-45ba-81ad-ba932893da9f",
   "metadata": {},
   "source": [
    "## Number Theory"
   ]
  },
  {
   "cell_type": "markdown",
   "id": "b7243622-b08a-452d-8aae-fa273dd29c13",
   "metadata": {},
   "source": [
    "**Number theory** is reasoning about number systems and why we adopted the way we use them today. Let's talk about a few systems. \n",
    "\n",
    "### Natural Numbers and \n",
    "\n",
    "You are probably familiar with natural numbers, which are positive whole numbers. They are the oldest known number system. Ancient tally marks have been found scratched into bones and cave walls. \n",
    "\n",
    "Below, we print the natural numbers 0-15.  "
   ]
  },
  {
   "cell_type": "code",
   "execution_count": 74,
   "id": "95c3cd03-94f9-4dca-b0fc-011e5ba9dc70",
   "metadata": {
    "scrolled": true
   },
   "outputs": [
    {
     "name": "stdout",
     "output_type": "stream",
     "text": [
      "0\n",
      "1\n",
      "2\n",
      "3\n",
      "4\n",
      "5\n",
      "6\n",
      "7\n",
      "8\n",
      "9\n",
      "10\n",
      "11\n",
      "12\n",
      "13\n",
      "14\n"
     ]
    }
   ],
   "source": [
    "for i in range(0,15):\n",
    "    print(i)"
   ]
  },
  {
   "cell_type": "markdown",
   "id": "0d8789ca-51c7-47cb-a400-784592c7a4a4",
   "metadata": {},
   "source": [
    "Above we are using the digits 0-9 to express natural numbers, which confusingly we call **decimal** not because it has floating point values (that's a separate idea) but because it uses 10 digits. Notice how when we run out of digits, we use two digits to express numbers higher than 9, three digits to express numbers higher than 99, and so on. The Babylonians created this useful idea of using columns of digits to express any value no matter how high.  \n",
    "\n",
    "However, we do not have to use digits 0-9. We can use less digits, such as 0 and 1 in a **binary system**. It follows the same pattern as the decimal system, but limits to only 2 digits. The number 0 is `0`. the number 1 is `1`. But we add a column after that and express 2 as `10`. The number 3 is `11`. The number 4 then adds another column with `100`, and 5 with `101`. See the pattern? \n",
    "\n",
    "Below, we express the numbers we know as 0 through 14 but as binary values. Ignore the `0b` preceding each value. That is just an indicator it is binary. "
   ]
  },
  {
   "cell_type": "code",
   "execution_count": 75,
   "id": "4e58c3ef-b444-45f2-ac68-c62e233598c9",
   "metadata": {},
   "outputs": [
    {
     "name": "stdout",
     "output_type": "stream",
     "text": [
      "0b0\n",
      "0b1\n",
      "0b10\n",
      "0b11\n",
      "0b100\n",
      "0b101\n",
      "0b110\n",
      "0b111\n",
      "0b1000\n",
      "0b1001\n",
      "0b1010\n",
      "0b1011\n",
      "0b1100\n",
      "0b1101\n",
      "0b1110\n"
     ]
    }
   ],
   "source": [
    "for i in range(0,15):\n",
    "    print(bin(i))"
   ]
  },
  {
   "cell_type": "markdown",
   "id": "6cf6d6ba-1d5c-42a2-8fa8-f92a88bc824b",
   "metadata": {},
   "source": [
    "As you might have heard, binary values are very useful in computer science, as computers process electrical signals in a 0/1 or off/on state. When you work with data, it is actually binary behind the scenes!\n",
    "\n",
    "Then there is **hexadecimal** which uses 16-digits. It also is useful in computer science for expressing larger amounts of data into shorter sequences of digits. It extends the decimal digits 0-9 with the letters A-F, effectively giving us 16 digits. Below, we express the decimal numbers 0 through 40 as hexadecimals. Ignore the `0x` part of each number, as that is a flag it is a hexadecimal value."
   ]
  },
  {
   "cell_type": "code",
   "execution_count": 73,
   "id": "c89b9f87-efac-482d-b2c3-22d97918bf8e",
   "metadata": {
    "scrolled": true
   },
   "outputs": [
    {
     "name": "stdout",
     "output_type": "stream",
     "text": [
      "0x0\n",
      "0x1\n",
      "0x2\n",
      "0x3\n",
      "0x4\n",
      "0x5\n",
      "0x6\n",
      "0x7\n",
      "0x8\n",
      "0x9\n",
      "0xa\n",
      "0xb\n",
      "0xc\n",
      "0xd\n",
      "0xe\n",
      "0xf\n",
      "0x10\n",
      "0x11\n",
      "0x12\n",
      "0x13\n",
      "0x14\n",
      "0x15\n",
      "0x16\n",
      "0x17\n",
      "0x18\n",
      "0x19\n",
      "0x1a\n",
      "0x1b\n",
      "0x1c\n",
      "0x1d\n",
      "0x1e\n",
      "0x1f\n",
      "0x20\n",
      "0x21\n",
      "0x22\n",
      "0x23\n",
      "0x24\n",
      "0x25\n",
      "0x26\n",
      "0x27\n"
     ]
    }
   ],
   "source": [
    "for i in range(0,40):\n",
    "    print(hex(i))"
   ]
  },
  {
   "cell_type": "markdown",
   "id": "25703f2c-9bef-4aa7-94d5-74b909c00285",
   "metadata": {},
   "source": [
    "Decimal, binary, and hexadecimal were used in the previous examples to express natural numbers. We can also express integers, which includes negative whole numbers on top of positive natural numbers. Here we express integers -5 through 5 in decimal, binary, and hexadecimal. "
   ]
  },
  {
   "cell_type": "code",
   "execution_count": 107,
   "id": "4d904d06-2539-4265-82cc-8175bdbeb9a1",
   "metadata": {},
   "outputs": [
    {
     "name": "stdout",
     "output_type": "stream",
     "text": [
      "-5\t-0b101\t-0x5\n",
      "-4\t-0b100\t-0x4\n",
      "-3\t-0b11\t-0x3\n",
      "-2\t-0b10\t-0x2\n",
      "-1\t-0b1\t-0x1\n",
      "0\t0b0\t0x0\n",
      "1\t0b1\t0x1\n",
      "2\t0b10\t0x2\n",
      "3\t0b11\t0x3\n",
      "4\t0b100\t0x4\n",
      "5\t0b101\t0x5\n"
     ]
    }
   ],
   "source": [
    "integers = [i for i in range(-5,6)]\n",
    "\n",
    "for i in range(-5,6):\n",
    "    print(f\"{i}\\t{bin(i)}\\t{hex(i)}\")"
   ]
  },
  {
   "cell_type": "markdown",
   "id": "c5af808d-f84b-461b-a6bf-8f520fc5df34",
   "metadata": {},
   "source": [
    "For our purposes, we will stick with the mathematically popular decimal system. Still it is good to be aware of binary and hexadecimal systems, as you likely will encounter them if you have not already. Also be aware that there are other extended number systems, like base64 which uses 64 digits! \n",
    "\n",
    "Floating point values can be expressed in binary and hexadecimal, but only by separating the whole number and the fraction into separate binary/hexadecimal values. \n",
    "\n",
    "### Rational and Irrational Numbers \n",
    "\n",
    "Speaking of floating point values, there are rational and irrational numbers. **Rational numbers** are numbers that can be expressed as a ratio or fraction. This includes floating point values with a finite number of decimal places. Below are four rational numbers. "
   ]
  },
  {
   "cell_type": "code",
   "execution_count": 98,
   "id": "0b46950e-4101-4ca7-b7bf-af4586fd86ec",
   "metadata": {},
   "outputs": [
    {
     "name": "stdout",
     "output_type": "stream",
     "text": [
      "0.6666666666666666\n",
      "1.572\n",
      "11\n",
      "7.857142857142857\n"
     ]
    }
   ],
   "source": [
    "rational_numbers = [ 2/3, 1.572, 11, 55/7 ]\n",
    "\n",
    "for x in rational_numbers:\n",
    "    print(x)"
   ]
  },
  {
   "cell_type": "markdown",
   "id": "470c28bc-3d65-4ef1-bf3e-ae113ecb6c0a",
   "metadata": {},
   "source": [
    "Irrational numbers are numbers that cannot be expressed with a ratio or fraction, as they have an infinite number of decimal places with no clear pattern. The constant $ \\pi $, Euler's number $ e $, and the square root of 2 are all irrational numbers."
   ]
  },
  {
   "cell_type": "code",
   "execution_count": 97,
   "id": "51216d8e-276f-405e-84f2-cdeb0077d131",
   "metadata": {
    "scrolled": true
   },
   "outputs": [
    {
     "name": "stdout",
     "output_type": "stream",
     "text": [
      "3.141592653589793\n",
      "1.4142135623730951\n",
      "2.718281828459045\n"
     ]
    }
   ],
   "source": [
    "import math\n",
    "\n",
    "irrational_numbers = [ math.pi , math.sqrt(2), math.e ]\n",
    "\n",
    "for x in irrational_numbers:\n",
    "    print(x)"
   ]
  },
  {
   "cell_type": "markdown",
   "id": "23c29261-60f7-42f3-bc4c-6ade476a594a",
   "metadata": {},
   "source": [
    "Unless you are using SymPy and symbolic math systems, computers are forced to approximate irrational numbers to a finite number of decimal places. "
   ]
  },
  {
   "cell_type": "markdown",
   "id": "b482db11-3479-4649-9224-300dc2176ed3",
   "metadata": {},
   "source": [
    "Natural, integer, rational, and irrational numbers together compose **real numbers**. However, **imaginary numbers** occur when you take the square root of a negative number. For our purposes, we will not delve into imaginary numbers but you can [learn about them in this fantastic series of videos](https://www.youtube.com/playlist?list=PLiaHhY2iBX9g6KIvZ_703G3KJXapKkNaF). "
   ]
  },
  {
   "cell_type": "markdown",
   "id": "bcebd3a6-8308-4e12-affb-7532f1656691",
   "metadata": {},
   "source": [
    "## SymPy Basics"
   ]
  },
  {
   "cell_type": "markdown",
   "id": "ea485ee3-58af-4fd1-a72a-91dab6adb21e",
   "metadata": {},
   "source": [
    "SymPy is a symbolic math library. What this means is you can do mathematical operations but use stand-in variables that do not have to commit to a value. To understand what this means, take a simple Python variable and a function. "
   ]
  },
  {
   "cell_type": "code",
   "execution_count": 22,
   "id": "4e493dd0-6465-4125-a47c-f8b3c34f8ca9",
   "metadata": {},
   "outputs": [
    {
     "name": "stdout",
     "output_type": "stream",
     "text": [
      "0\n"
     ]
    }
   ],
   "source": [
    "x = 2\n",
    "\n",
    "def f(x): \n",
    "    return 3*x - 6\n",
    "\n",
    "print(f(x))"
   ]
  },
  {
   "cell_type": "markdown",
   "id": "87c7a6d5-35b1-4811-9ab9-87d6be9e047e",
   "metadata": {},
   "source": [
    "While the function `f(x)` does not commit a value for `x`, you are forced to choose a value for `x` when you use it. This limits a lot of your mathematical exploration. For example, can you use plain Python to solve for $ x $ in this algebraic expression? \n",
    "\n",
    "$\n",
    "0 = 3x - 6\n",
    "$ \n",
    "\n",
    "No, you normally would resort to using pencil-and-paper to solve this by hand like you did in high school. You could use NumPy but you would be forced to translate the problem using linear algebra operations with vectors and matrices. While that is a good practice, it is not helpful for exploring math concepts in the simplest way. \n",
    "\n",
    "Now let's introduce the SymPy way of solving this algebraic expression, using [the solve() function](https://docs.sympy.org/latest/modules/solvers/solvers.html)."
   ]
  },
  {
   "cell_type": "code",
   "execution_count": 23,
   "id": "46a9f246-860b-4a56-8d80-df35c123e917",
   "metadata": {},
   "outputs": [
    {
     "data": {
      "text/plain": [
       "[2]"
      ]
     },
     "execution_count": 23,
     "metadata": {},
     "output_type": "execute_result"
    }
   ],
   "source": [
    "from sympy import * \n",
    "from sympy.solvers import solve \n",
    "\n",
    "x = symbols('x')\n",
    "expr = 3*x - 6\n",
    "\n",
    "solve(expr, x) "
   ]
  },
  {
   "cell_type": "markdown",
   "id": "5411f69f-bf64-47d8-9b98-eaaf829f21bb",
   "metadata": {},
   "source": [
    "Note for algebraic expressions, the `solve()` function expects the expression to equal $ 0 $. If you have the expression equal something other than 0, like this one: \n",
    "\n",
    "$ \n",
    "4 = 3x - 2\n",
    "$ \n",
    "\n",
    "Just subtract that isolated value from each side so the expression equals 0.\n",
    "\n",
    "$\n",
    "4 = 3x - 2\n",
    "$\n",
    "\n",
    "$\n",
    "4 - 4 = 3x - 2 - 4 \n",
    "$\n",
    "\n",
    "$\n",
    "0 = 3x - 6 \n",
    "$"
   ]
  },
  {
   "cell_type": "markdown",
   "id": "d52d2c3a-2046-47d9-8571-527c9b56563e",
   "metadata": {},
   "source": [
    "After that, you can solve with SymPy. "
   ]
  },
  {
   "cell_type": "code",
   "execution_count": 24,
   "id": "02a80864-04c4-4ccc-a8a6-0c3408872bfc",
   "metadata": {},
   "outputs": [
    {
     "data": {
      "text/plain": [
       "[2]"
      ]
     },
     "execution_count": 24,
     "metadata": {},
     "output_type": "execute_result"
    }
   ],
   "source": [
    "from sympy import * \n",
    "from sympy.solvers import solve \n",
    "\n",
    "x = symbols('x')\n",
    "expr = 3*x - 6\n",
    "\n",
    "solve(expr, x) "
   ]
  },
  {
   "cell_type": "markdown",
   "id": "8f6de381-231f-4aad-bfb1-4b45f9f7f784",
   "metadata": {},
   "source": [
    "If there is only one variable, you do not even have to specify which variable you are solving for. It will implicitly know to solve for that only variable."
   ]
  },
  {
   "cell_type": "code",
   "execution_count": 26,
   "id": "f5d69ae5-9971-4f88-8311-064f921faefc",
   "metadata": {},
   "outputs": [
    {
     "data": {
      "text/plain": [
       "[2]"
      ]
     },
     "execution_count": 26,
     "metadata": {},
     "output_type": "execute_result"
    }
   ],
   "source": [
    "solve(3*x - 6) "
   ]
  },
  {
   "cell_type": "markdown",
   "id": "c88c4547-e7fc-4f55-bb0c-fa48d3d8dc2a",
   "metadata": {},
   "source": [
    "As a Python developer, the benefit of using SymPy is you can use all the Python mathematical functions.\n",
    "\n",
    "\n",
    "| Operator | Description |\n",
    "|----------|-------------|\n",
    "| +        | Add         |\n",
    "| -        | Subtract    |\n",
    "| *        | Multiply    |\n",
    "| /        | Divide      |\n",
    "| **       | Exponent    |\n",
    "| ( )      | Group       |\n",
    "\n",
    "\n",
    "As long as you use them against a SymPy symbol or existing function, the mathematical operations will stay in SymPy Land. Note how SymPy will also attempt to simplify expressions. "
   ]
  },
  {
   "cell_type": "code",
   "execution_count": 32,
   "id": "a4c5b94e-622f-4b7a-ac42-5be39fef16d5",
   "metadata": {
    "scrolled": true
   },
   "outputs": [
    {
     "name": "stdout",
     "output_type": "stream",
     "text": [
      "12*x**2 + 4*y**3 + 2\n"
     ]
    }
   ],
   "source": [
    "from sympy import * \n",
    "\n",
    "x, y = symbols('x y')\n",
    "\n",
    "f1 = 2*x**2 - 3\n",
    "f2 = 4*y**3 + 10*x**2 + 5 \n",
    "\n",
    "print(f1 + f2) "
   ]
  },
  {
   "cell_type": "markdown",
   "id": "8d997e0f-042b-4b0c-8739-f67efae86393",
   "metadata": {},
   "source": [
    "Look what happens in Jupyter if you do not use the `print()` function. It will produce LaTeX instead! "
   ]
  },
  {
   "cell_type": "code",
   "execution_count": 34,
   "id": "82621b15-cf64-460d-97f9-7f9114e3b444",
   "metadata": {},
   "outputs": [
    {
     "data": {
      "text/latex": [
       "$\\displaystyle 12 x^{2} + 4 y^{3} + 2$"
      ],
      "text/plain": [
       "12*x**2 + 4*y**3 + 2"
      ]
     },
     "execution_count": 34,
     "metadata": {},
     "output_type": "execute_result"
    }
   ],
   "source": [
    "f1 + f2 "
   ]
  },
  {
   "cell_type": "markdown",
   "id": "666679f3-48e4-4d79-9f49-a61d2ff27e06",
   "metadata": {},
   "source": [
    "SymPy also has the ability to substitute symbols with other values and expressions using the `subs()` function. "
   ]
  },
  {
   "cell_type": "code",
   "execution_count": 36,
   "id": "84c61e07-9a5b-42bb-bbb9-896ce3724d5a",
   "metadata": {},
   "outputs": [
    {
     "data": {
      "text/latex": [
       "$\\displaystyle 10 x^{2} + 4 \\left(2 x^{2} - 3\\right)^{3} + 5$"
      ],
      "text/plain": [
       "10*x**2 + 4*(2*x**2 - 3)**3 + 5"
      ]
     },
     "execution_count": 36,
     "metadata": {},
     "output_type": "execute_result"
    }
   ],
   "source": [
    "from sympy import * \n",
    "\n",
    "x, y = symbols('x y')\n",
    "\n",
    "f1 = 2*x**2 - 3\n",
    "f2 = 4*y**3 + 10*x**2 + 5 \n",
    "\n",
    "f2.subs(y, f1)"
   ]
  },
  {
   "cell_type": "code",
   "execution_count": 38,
   "id": "45a1df04-bd7f-49d9-b1c5-c31a40bc23d2",
   "metadata": {},
   "outputs": [
    {
     "data": {
      "text/latex": [
       "$\\displaystyle 15$"
      ],
      "text/plain": [
       "15"
      ]
     },
     "execution_count": 38,
     "metadata": {},
     "output_type": "execute_result"
    }
   ],
   "source": [
    "f1.subs(x, 3)"
   ]
  },
  {
   "cell_type": "markdown",
   "id": "019e5962-8ea1-40bf-870d-4cd17dd562ae",
   "metadata": {},
   "source": [
    "There are built-in symbols especially for mathematical constants like $ \\pi $. What is nice about this is normally a computer would have to use an approximate value for $ \\pi $ since there are an infinite number of digits in it. However, by using symbolic math we can simply use a symbol for $ \\pi $ making it mathematically precise. "
   ]
  },
  {
   "cell_type": "code",
   "execution_count": 39,
   "id": "b70157b8-7efc-4915-8996-7231c36caa45",
   "metadata": {},
   "outputs": [
    {
     "data": {
      "text/latex": [
       "$\\displaystyle 9 \\pi$"
      ],
      "text/plain": [
       "9*pi"
      ]
     },
     "execution_count": 39,
     "metadata": {},
     "output_type": "execute_result"
    }
   ],
   "source": [
    "from sympy import * \n",
    "\n",
    "r = 3 \n",
    "A = pi*r**2 \n",
    "A"
   ]
  },
  {
   "cell_type": "markdown",
   "id": "89be5140-7475-47e7-9f84-d1b7093fc553",
   "metadata": {},
   "source": [
    "However, if you want to force it to evaluate to a floating point you can call the `evalf()` function. "
   ]
  },
  {
   "cell_type": "code",
   "execution_count": 41,
   "id": "afcf75f6-3e85-4174-a01a-bc7c6b2c2aff",
   "metadata": {
    "scrolled": true
   },
   "outputs": [
    {
     "data": {
      "text/latex": [
       "$\\displaystyle 28.2743338823081$"
      ],
      "text/plain": [
       "28.2743338823081"
      ]
     },
     "execution_count": 41,
     "metadata": {},
     "output_type": "execute_result"
    }
   ],
   "source": [
    "A.evalf()"
   ]
  },
  {
   "cell_type": "markdown",
   "id": "c602fdd7-b0d9-4fec-aee5-bb335c8e54b2",
   "metadata": {},
   "source": [
    "We can also use the argument on `evalf()` to calculate the first 200 digits of $ \\pi $. "
   ]
  },
  {
   "cell_type": "code",
   "execution_count": 64,
   "id": "a70383b0-d3b6-4134-a39b-f6c63fd3ad2d",
   "metadata": {},
   "outputs": [
    {
     "data": {
      "text/latex": [
       "$\\displaystyle 3.141592653589793238462643383279502884197169399375105820974944592307816406286208998628034825342117067982148086513282306647093844609550582231725359408128481117450284102701938521105559644622948954930382$"
      ],
      "text/plain": [
       "3.1415926535897932384626433832795028841971693993751058209749445923078164062862089986280348253421170679821480865132823066470938446095505822317253594081284811174502841027019385211055596446229489549303820"
      ]
     },
     "execution_count": 64,
     "metadata": {},
     "output_type": "execute_result"
    }
   ],
   "source": [
    "pi.evalf(200)"
   ]
  },
  {
   "cell_type": "markdown",
   "id": "02dfddd0-fd04-4a1f-905c-eaa5e9856636",
   "metadata": {},
   "source": [
    "Note also that SymPy supports, rational numbers. "
   ]
  },
  {
   "cell_type": "code",
   "execution_count": 50,
   "id": "62277282-dd3f-49e8-93a3-c08979aef910",
   "metadata": {},
   "outputs": [
    {
     "data": {
      "text/latex": [
       "$\\displaystyle \\frac{27}{8}$"
      ],
      "text/plain": [
       "27/8"
      ]
     },
     "execution_count": 50,
     "metadata": {},
     "output_type": "execute_result"
    }
   ],
   "source": [
    "x = Rational(5 / 2)\n",
    "y = Rational(7 / 8)\n",
    "\n",
    "x + y "
   ]
  },
  {
   "cell_type": "markdown",
   "id": "c8f4e086-1c84-422f-b725-65d76cc357fd",
   "metadata": {},
   "source": [
    "Which can also be forced into floating point values using `evalf()`. "
   ]
  },
  {
   "cell_type": "code",
   "execution_count": 51,
   "id": "0f076d00-84a8-409c-a07f-ce1e21a172a1",
   "metadata": {
    "scrolled": true
   },
   "outputs": [
    {
     "data": {
      "text/latex": [
       "$\\displaystyle 3.375$"
      ],
      "text/plain": [
       "3.37500000000000"
      ]
     },
     "execution_count": 51,
     "metadata": {},
     "output_type": "execute_result"
    }
   ],
   "source": [
    "(x + y).evalf()"
   ]
  },
  {
   "cell_type": "markdown",
   "id": "67e5de54-524b-461f-9d71-fbec55c3139e",
   "metadata": {},
   "source": [
    "## Functions, Exponents, and Logarithms"
   ]
  },
  {
   "cell_type": "markdown",
   "id": "da54ef45-94db-4965-8e18-e5fa5c24c18e",
   "metadata": {},
   "source": [
    "A common pattern we will build off is expressing one or more variables and then a function in SymPy. "
   ]
  },
  {
   "cell_type": "code",
   "execution_count": 108,
   "id": "57307923-cf60-4c34-8b1e-84a171ae731d",
   "metadata": {},
   "outputs": [
    {
     "data": {
      "text/latex": [
       "$\\displaystyle x^{2} - 1$"
      ],
      "text/plain": [
       "x**2 - 1"
      ]
     },
     "execution_count": 108,
     "metadata": {},
     "output_type": "execute_result"
    }
   ],
   "source": [
    "from sympy import * \n",
    "\n",
    "x = symbols('x')\n",
    "\n",
    "f = x**2 - 1 \n",
    "f"
   ]
  },
  {
   "cell_type": "markdown",
   "id": "b2283835-ef3d-4d89-a445-414e777007eb",
   "metadata": {},
   "source": [
    "You can easily plot a SymPy math function using the `plot()` library function. Just make sure you have matplotlib installed as that is what it uses behind-the-scenes. "
   ]
  },
  {
   "cell_type": "code",
   "execution_count": 109,
   "id": "83027f24-94cc-4bb5-bb19-a9f429662ea4",
   "metadata": {},
   "outputs": [
    {
     "data": {
      "image/png": "[encoded data removed]",
      "text/plain": [
       "<Figure size 640x480 with 1 Axes>"
      ]
     },
     "metadata": {},
     "output_type": "display_data"
    },
    {
     "data": {
      "text/plain": [
       "<sympy.plotting.plot.Plot at 0x106246210>"
      ]
     },
     "execution_count": 109,
     "metadata": {},
     "output_type": "execute_result"
    }
   ],
   "source": [
    "from sympy import * \n",
    "\n",
    "x = symbols('x')\n",
    "f = x**2 - 1 \n",
    "plot(f)"
   ]
  },
  {
   "cell_type": "markdown",
   "id": "6f2f4b0b-1199-4800-a851-003ee46f378f",
   "metadata": {},
   "source": [
    "You can now donate that TI-83 calculator! You got SymPy now and it is going to be so much better than high school and college. \n",
    "\n",
    "### Exponents \n",
    "\n",
    "While we are on the subject, it is worth reviewing exponents and logarithms. An **exponent** is probably a familiar operation, where you multiple a number by itself so many times. \n",
    "\n",
    "$\n",
    "\\Large 4^3 = 4 \\times 4 \\times 4 = 64\n",
    "$\n",
    "\n",
    "What you *might* be rusty in are negative exponents and fractional exponents. A negative exponent put the exponent operation in the denominator, like this. \n",
    "\n",
    "$ \n",
    "\\Large 2^{-3} = \\frac{1}{2^3} = \\frac{1}{8}\n",
    "$"
   ]
  },
  {
   "cell_type": "markdown",
   "id": "90769de5-40c7-4e04-be61-9f5a88f80404",
   "metadata": {},
   "source": [
    "A fractional exponent indicates a root operation. An exponent of $ 1/2 $ would be a square root. An exponent of $ 1/3 $ would be a cube root, etc. \n",
    "\n",
    "$\n",
    "\\Large 4^{1/2} = \\sqrt{4} = 2\n",
    "$\n",
    "\n",
    "$\n",
    "\\Large 8^{1/3} = \\sqrt[3]{8} = 2\n",
    "$"
   ]
  },
  {
   "cell_type": "markdown",
   "id": "18098565-3900-4308-8a16-657ee2667526",
   "metadata": {},
   "source": [
    "What does it mean when you have a value other than $ 1 $ in the numerator though, like $ 2/3 $? Think of it as a root that is exponented after it is solved. \n",
    "\n",
    "$\n",
    "\\Large 8^{2/3} = (8^{1/3})^2 = 2^2 = 4\n",
    "$"
   ]
  },
  {
   "cell_type": "markdown",
   "id": "3e4da4c5-4372-49f7-9043-040a352ac585",
   "metadata": {},
   "source": [
    "Of course, you can express these exponential operations in SymPy as well as plot exponential functions. "
   ]
  },
  {
   "cell_type": "code",
   "execution_count": 113,
   "id": "7d8aba87-6dd8-43ce-bf95-71ab1d180b00",
   "metadata": {
    "scrolled": true
   },
   "outputs": [
    {
     "name": "stdout",
     "output_type": "stream",
     "text": [
      "4.00000000000000\n"
     ]
    },
    {
     "name": "stderr",
     "output_type": "stream",
     "text": [
      "<string>:1: RuntimeWarning: invalid value encountered in scalar power\n"
     ]
    },
    {
     "data": {
      "image/png": "[encoded data removed]",
      "text/plain": [
       "<Figure size 640x480 with 1 Axes>"
      ]
     },
     "metadata": {},
     "output_type": "display_data"
    },
    {
     "data": {
      "text/plain": [
       "<sympy.plotting.plot.Plot at 0x11a7445d0>"
      ]
     },
     "execution_count": 113,
     "metadata": {},
     "output_type": "execute_result"
    }
   ],
   "source": [
    "from sympy import * \n",
    "\n",
    "x = symbols('x') \n",
    "f = x**(2/3)\n",
    "\n",
    "print(f.subs(x, 8))\n",
    "\n",
    "plot(f)"
   ]
  },
  {
   "cell_type": "code",
   "execution_count": null,
   "id": "76ce64cb-5ad6-4567-8446-0bb8e1794e07",
   "metadata": {},
   "outputs": [],
   "source": []
  }
 ],
 "metadata": {
  "kernelspec": {
   "display_name": "Python 3 (ipykernel)",
   "language": "python",
   "name": "python3"
  },
  "language_info": {
   "codemirror_mode": {
    "name": "ipython",
    "version": 3
   },
   "file_extension": ".py",
   "mimetype": "text/x-python",
   "name": "python",
   "nbconvert_exporter": "python",
   "pygments_lexer": "ipython3",
   "version": "3.11.5"
  }
 },
 "nbformat": 4,
 "nbformat_minor": 5
}
