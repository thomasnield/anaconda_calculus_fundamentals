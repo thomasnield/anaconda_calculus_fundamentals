{
 "cells": [
  {
   "cell_type": "markdown",
   "id": "e4c51428-ffd4-4138-8629-23b506a8886b",
   "metadata": {},
   "source": [
    "# Limits"
   ]
  },
  {
   "cell_type": "markdown",
   "id": "b45a58bc-d937-42ac-a0aa-1bd0954f91b7",
   "metadata": {},
   "source": [
    "As we get our feet wet with calculus concepts, we will want to get familiar with the concept of limits. The idea of forever approaching a value, but never actually reaching that value, and seeing some convergence is key to unlocking critical calculus ideas like derivatives and integrals. "
   ]
  },
  {
   "cell_type": "markdown",
   "id": "aea906a3-63cb-4c9f-af89-3d59dc08a415",
   "metadata": {},
   "source": [
    "## Approaching Infinity"
   ]
  },
  {
   "cell_type": "markdown",
   "id": "c213dbfb-d685-40de-b7d2-d463be84db03",
   "metadata": {},
   "source": [
    "Let's take this function and plot it in SymPy. \n",
    "\n",
    "$\n",
    "\\Large f(x) = \\frac{x^2 - 1}{x - 1}\n",
    "$"
   ]
  },
  {
   "cell_type": "code",
   "execution_count": null,
   "id": "d113df38-4a7c-4673-b0e9-c9fae9c3ce88",
   "metadata": {},
   "outputs": [],
   "source": [
    "from sympy import *\n",
    "\n",
    "x = symbols('x')\n",
    "f = (x**2 - 1) / (x - 1)\n",
    "\n",
    "plot(f)"
   ]
  },
  {
   "cell_type": "markdown",
   "id": "a0075353-cfe7-4b3b-a97a-831f9a233ab6",
   "metadata": {},
   "source": [
    "It may not be obvious, but there is a hole in this plot at $ x = 1 $. Can you figure out why? It is because we cannot divide by 0, and the denominator would be 0 if $ x = 1 $. Try it for yourself in Python. "
   ]
  },
  {
   "cell_type": "code",
   "execution_count": null,
   "id": "f0a871fe-c031-4d29-8897-e3e600d02bf0",
   "metadata": {},
   "outputs": [],
   "source": [
    "def f(x): \n",
    "    return (x**2 - 1) / (x - 1)\n",
    "\n",
    "f(1)"
   ]
  },
  {
   "cell_type": "markdown",
   "id": "7e1e7885-315e-4849-a36b-6dd1a154ac15",
   "metadata": {},
   "source": [
    "SymPy will not exactly throw an error, but it will give a `NaN` indicating a non-existant value. "
   ]
  },
  {
   "cell_type": "code",
   "execution_count": null,
   "id": "f087babc-8c33-4e97-9ff5-f1ccd182a451",
   "metadata": {},
   "outputs": [],
   "source": [
    "from sympy import *\n",
    "\n",
    "x = symbols('x')\n",
    "f = (x**2 - 1) / (x - 1)\n",
    "\n",
    "f.subs(x, 1)"
   ]
  },
  {
   "cell_type": "markdown",
   "id": "676a350c-0a4d-4178-a720-e4bda2926d2f",
   "metadata": {},
   "source": [
    "So what if we wanted to know what value the function is approaching as $ x = 1 $, without ever reaching $ x = 1 $? Well, we can try to use a really close value to $ 1 $, like $ 1.1 $ right? "
   ]
  },
  {
   "cell_type": "code",
   "execution_count": null,
   "id": "cc5981a3-fe9a-49b5-9200-91ff5d3bcf79",
   "metadata": {},
   "outputs": [],
   "source": [
    "def f(x): \n",
    "    return (x**2 - 1) / (x - 1)\n",
    "\n",
    "f(1.1)"
   ]
  },
  {
   "cell_type": "markdown",
   "id": "ef833453-655a-463e-abfd-b839a1d2180f",
   "metadata": {},
   "source": [
    "Okay, what if we made it even smaller like $ 1.0001 $. "
   ]
  },
  {
   "cell_type": "code",
   "execution_count": null,
   "id": "3e886d72-3eed-44ab-92ce-cd38be7c6414",
   "metadata": {},
   "outputs": [],
   "source": [
    "def f(x): \n",
    "    return (x**2 - 1) / (x - 1)\n",
    "\n",
    "f(1.0001)"
   ]
  },
  {
   "cell_type": "markdown",
   "id": "b74de039-d15c-43c6-bf6d-145915cc1da6",
   "metadata": {},
   "source": [
    "I am suspecting the value we are approaching is 2. Let's get even closer to 1.  "
   ]
  },
  {
   "cell_type": "code",
   "execution_count": null,
   "id": "499bfa0b-dcf2-42cf-a45a-bd2f12cc3b4e",
   "metadata": {},
   "outputs": [],
   "source": [
    "def f(x): \n",
    "    return (x**2 - 1) / (x - 1)\n",
    "\n",
    "f(1.0000001)"
   ]
  },
  {
   "cell_type": "markdown",
   "id": "d4bcb1eb-e3d8-4637-a19d-fc87ca959e22",
   "metadata": {},
   "source": [
    "Alright, it's likely $ 2 $ and if I add any more decimal places than this the floating point system in Python is just going to round to $ 2 $. Is there a more mathematically precise way of doing this task of forever getting closer to $ x = 1 $ and seeing what the function approaches, without ever reaching $ x = 1 $? "
   ]
  },
  {
   "cell_type": "markdown",
   "id": "b789f864-afb9-4746-9f41-fa467df35bba",
   "metadata": {},
   "source": [
    "## Introducing Limits"
   ]
  },
  {
   "cell_type": "markdown",
   "id": "deb67e6f-723e-4309-b401-b23933ad6316",
   "metadata": {},
   "source": [
    "We have this function with a hole in it where $ x = 1 $. That would cause a division by zero. "
   ]
  },
  {
   "cell_type": "markdown",
   "id": "235ee5d9-7731-468d-9c2f-853048133ebf",
   "metadata": {},
   "source": [
    "$\n",
    "\\Large f(x) = \\frac{x^2 - 1}{x - 1}\n",
    "$"
   ]
  },
  {
   "cell_type": "markdown",
   "id": "8146596f-8b72-4a67-947e-f705fca256b0",
   "metadata": {},
   "source": [
    "However, we can find out what value $ f(x) $ approaches as $ x $ gets closer to $ 1 $ by using a **limit**, which helps us identify the converging behavior near an input value. \n",
    "\n",
    "![limit](https://latex.codecogs.com/svg.image?\\Large\\lim_{x\\to1}\\frac{x^2-1}{x-1}=2)"
   ]
  },
  {
   "cell_type": "markdown",
   "id": "166ded6d-990a-4e61-ba42-88afe32478f4",
   "metadata": {},
   "source": [
    "You can calculate a limit in SymPy using the `limit()` function. Pass the SymPy"
   ]
  },
  {
   "cell_type": "code",
   "execution_count": null,
   "id": "c40d70c9-9fd1-4e5d-9265-9280b8888e33",
   "metadata": {},
   "outputs": [],
   "source": [
    "from sympy import * \n",
    "\n",
    "x = symbols('x')\n",
    "f = (x**2 - 1) / (x - 1)\n",
    "\n",
    "limit(f,x,1)"
   ]
  },
  {
   "cell_type": "markdown",
   "id": "359dac7a-577c-4389-98ed-ba80fb536c4e",
   "metadata": {},
   "source": [
    "Let's investigate this function next, which also has a \"divide by zero\" problem. To get a good view of the `plot()` with SymPy, set the $ x $ and $ y $ axis ranges to be $ \\pm 10 $ from $ 0 $. \n",
    "\n",
    "$ \n",
    "\\Large f(x) = \\frac{1}{x}\n",
    "$"
   ]
  },
  {
   "cell_type": "markdown",
   "id": "851288a3-2537-40a5-b75e-97eedb2ae2dc",
   "metadata": {},
   "source": [
    "As $ x $ approaches $ 0 $, what does $ f(x) $ approach? "
   ]
  },
  {
   "cell_type": "code",
   "execution_count": null,
   "id": "d3fccfc3-acce-4f5a-a18d-a5286b70c25c",
   "metadata": {},
   "outputs": [],
   "source": [
    "from sympy import * \n",
    "\n",
    "x = symbols('x')\n",
    "f = 1 / x\n",
    "\n",
    "plot(f, xlim=(-10,10), ylim=(-10,10))"
   ]
  },
  {
   "cell_type": "markdown",
   "id": "6c169e55-645a-4d1f-848e-6af07786db0e",
   "metadata": {},
   "source": [
    "Let's again use SymPy to answer this question."
   ]
  },
  {
   "cell_type": "code",
   "execution_count": null,
   "id": "73d37aad-ebc3-4fa5-9bc3-2aa4a79e878e",
   "metadata": {},
   "outputs": [],
   "source": [
    "from sympy import * \n",
    "\n",
    "x = symbols('x')\n",
    "f = 1 / x\n",
    "\n",
    "limit(f, x, 0)"
   ]
  },
  {
   "cell_type": "markdown",
   "id": "1b49930d-77f8-4092-9b4c-d8ab6ffc9702",
   "metadata": {},
   "source": [
    "Given the plot, this makes sense. As you approach $ x $ being $ 0 $, we see the output variable extend into infinity. Speaking of infinity, we can also approach the input variable $ x $ to infinity to see what the output variable $ y $ approaches. Let's extend into positive infinity and see what value we are approaching. SymPy cleverly uses two o's `oo` as the infinity symbol. "
   ]
  },
  {
   "cell_type": "code",
   "execution_count": null,
   "id": "c770a79d-599b-423c-a9be-d4757b3f111a",
   "metadata": {},
   "outputs": [],
   "source": [
    "from sympy import * \n",
    "\n",
    "x = symbols('x')\n",
    "f = 1 / x\n",
    "\n",
    "limit(f, x, oo)"
   ]
  },
  {
   "cell_type": "markdown",
   "id": "8501de1d-9760-4d44-b71a-a3174b0f8d1f",
   "metadata": {},
   "source": [
    "Unsurprisingly, $ y $ is approaching $ 0 $ as $ x $ extends into infinity $ \\infty $. If we approach negative infinity, $ y $ also approaches $ 0 $. "
   ]
  },
  {
   "cell_type": "code",
   "execution_count": null,
   "id": "171dd5a7-f11e-483f-8bd3-53efbbfe583b",
   "metadata": {},
   "outputs": [],
   "source": [
    "limit(f, x, -oo)"
   ]
  },
  {
   "cell_type": "markdown",
   "id": "c77ac8a2-ba43-4f60-875e-da07b5b7906c",
   "metadata": {},
   "source": [
    "## Euler's Number"
   ]
  },
  {
   "cell_type": "markdown",
   "id": "f06962f2-d316-4761-96a9-2d34a967d483",
   "metadata": {},
   "source": [
    "In math, there is a special constant called **Euler's Number** with some magical properties. It shows up in nature, finance, and engineering as well as statistics and probability. It even is used for the formula in a normal distribution. \n",
    "\n",
    "Here is one way to discover Euler's number. Let's say we have a formula to calculate the principal amount given an interest rate and time. \n",
    "\n",
    "$\n",
    "A = p \\times (1 + \\frac{r}{n})^{n \\times t}\n",
    "$ \n",
    "\n",
    "Assuming no payments $ p $ is the starting principal amount, which we will make \\\\$1000. $ r $ is the annual interest rate. $ n $ is the number of times interest is compounded each year/period, which we will make monthly and thus is 12. $ t $ is the number of years/periods. \n",
    "\n",
    "Over those three years compounded month, that \\\\$1000 balance becomes \\\\$1,220.39. \n",
    "\n",
    "$\n",
    "A = 1000 \\times (1 + \\frac{.10}{12})^{12 \\times 2}\n",
    "$\n",
    "\n",
    "$\n",
    "A = 1,220.39\n",
    "$"
   ]
  },
  {
   "cell_type": "markdown",
   "id": "c92605da-9641-4370-9505-ec352905cc75",
   "metadata": {},
   "source": [
    "We can also calculate this in SymPy using using the `subs()` function. "
   ]
  },
  {
   "cell_type": "code",
   "execution_count": null,
   "id": "c8860d57-9b08-4538-bbb9-b35087edd8de",
   "metadata": {},
   "outputs": [],
   "source": [
    "from sympy import *\n",
    "\n",
    "p, r, n, t = symbols('p r n t')\n",
    "\n",
    "A = p * (1 + (r/n))**(n*t)\n",
    "\n",
    "A.subs([(p, 1000), (r, .10), (n, 12), (t, 2)])"
   ]
  },
  {
   "cell_type": "markdown",
   "id": "5244f408-f139-46a7-a1a8-80caf7d72739",
   "metadata": {},
   "source": [
    "Now what about happens if we compound every week, where $ n = 52 $? "
   ]
  },
  {
   "cell_type": "code",
   "execution_count": null,
   "id": "f1f29b22-935c-4ee1-8cdd-d575eecb06a0",
   "metadata": {},
   "outputs": [],
   "source": [
    "A.subs([(p, 1000), (r, .10), (n, 52), (t, 2)])"
   ]
  },
  {
   "cell_type": "markdown",
   "id": "48320951-5a4c-47cd-8b25-195d6b9e3ee8",
   "metadata": {},
   "source": [
    "Oh, we get a little bit more. What about every day where $ n = 365 $? "
   ]
  },
  {
   "cell_type": "code",
   "execution_count": null,
   "id": "a99c5ce6-89e1-4f61-bd83-675551584243",
   "metadata": {},
   "outputs": [],
   "source": [
    "A.subs([(p, 1000), (r, .10), (n, 365), (t, 2)])"
   ]
  },
  {
   "cell_type": "markdown",
   "id": "5bcc0de2-3bca-43e3-b794-2a800ae49ad8",
   "metadata": {},
   "source": [
    "We get a few more cents. What about every hour where $ n = 8760 $ ?"
   ]
  },
  {
   "cell_type": "code",
   "execution_count": null,
   "id": "b44b26ea-45e6-421d-a31b-9393e6f1073e",
   "metadata": {},
   "outputs": [],
   "source": [
    "A.subs([(p, 1000), (r, .10), (n, 8760), (t, 2)])"
   ]
  },
  {
   "cell_type": "markdown",
   "id": "5a92712c-cd89-47fe-be8f-8934fc681cac",
   "metadata": {},
   "source": [
    "Every minute? "
   ]
  },
  {
   "cell_type": "code",
   "execution_count": null,
   "id": "cbd99908-dbf5-4a5c-bf38-ad4593cb286e",
   "metadata": {},
   "outputs": [],
   "source": [
    "A.subs([(p, 1000), (r, .10), (n, 525600), (t, 2)])"
   ]
  },
  {
   "cell_type": "markdown",
   "id": "54155611-7136-4792-9604-cf8c28bf377e",
   "metadata": {},
   "source": [
    "Alright, the gains have a diminishing return obviously but we are approaching something. Wait, *approach*! That means we can use a limit. \n",
    "\n",
    "Let's restructure this so we use a limit to see what happens as we make $ n $ approach infinity. "
   ]
  },
  {
   "cell_type": "code",
   "execution_count": null,
   "id": "72fe8239-5a35-4d59-9bb8-378427d8584f",
   "metadata": {
    "scrolled": true
   },
   "outputs": [],
   "source": [
    "from sympy import *\n",
    "\n",
    "p, r, n, t = symbols('p r n t')\n",
    "\n",
    "A = p * (1 + (r/n))**(n*t)\n",
    "\n",
    "# substitute p, r, t \n",
    "A = A.subs([(p, 1000), (r, .10), (t, 2)])\n",
    "\n",
    "# approach n to infinity\n",
    "limit(A, n, oo)"
   ]
  },
  {
   "cell_type": "markdown",
   "id": "6b23b00a-d7e6-4bd4-af47-5287b9192f7f",
   "metadata": {},
   "source": [
    "Huh, weird! SymPy is giving us this value $ e $. Fun fact, in finance the formula for continuously compounded interest is...\n",
    "\n",
    "$\n",
    "A = Pe^{rt}\n",
    "$\n",
    "\n",
    "and we just mathematically derived that formula using limits. \n",
    "\n",
    "What exactly is the value of $ e $? We can access it in SymPy by the built-in symbol `E`."
   ]
  },
  {
   "cell_type": "code",
   "execution_count": null,
   "id": "57fac05d-fa50-4a56-ac47-8d55881ca51c",
   "metadata": {},
   "outputs": [],
   "source": [
    "E.evalf(10)"
   ]
  },
  {
   "cell_type": "markdown",
   "id": "a446914a-bb52-4946-8307-0d57c6c1afc4",
   "metadata": {},
   "source": [
    "$ e $ is a special constant we see all over mathematics. More technically, it is limit of the function below as $ n $ approaches infinity. \n",
    "\n",
    "![limit](https://latex.codecogs.com/svg.image?&space;e=\\lim_{x\\to\\infty}(1&plus;\\frac{1}{n})^{n})"
   ]
  },
  {
   "cell_type": "markdown",
   "id": "23ad2eca-dffd-4ba5-820f-6cb7082c2cca",
   "metadata": {},
   "source": [
    "We can calculate $ e $ using a limit below, and surprisingly SymPy catches on we are calculating $ e $ and returns it to us. "
   ]
  },
  {
   "cell_type": "code",
   "execution_count": null,
   "id": "f0d73731-5ecd-455e-ad25-a085acd012e4",
   "metadata": {},
   "outputs": [],
   "source": [
    "from sympy import *\n",
    "\n",
    "n = symbols('n')\n",
    "f = (1 + (1/n))**n\n",
    "result = limit(f, n, oo)\n",
    "\n",
    "print(result) # E\n",
    "print(result.evalf()) # 2.71828182845905"
   ]
  },
  {
   "cell_type": "markdown",
   "id": "3da44cde-30a3-4c4b-b6f4-9cf6b8bd9a30",
   "metadata": {},
   "source": [
    "We will use $ e $ a couple of times throughout this course. For example $ e $ is used to define a normal distribution, which is also known as the bell curve. \n",
    "\n",
    "$\n",
    "f(x; \\mu, \\sigma^2) = \\frac{1}{\\sqrt{2 \\pi \\sigma^2}} \\cdot \n",
    "e^{\\frac{-(x - \\mu)^2}{2 \\sigma^2}}\n",
    "$\n",
    "\n"
   ]
  },
  {
   "cell_type": "markdown",
   "id": "2c23f2f4-f28d-4038-a640-74c2bbc733e1",
   "metadata": {},
   "source": [
    "## Exercise"
   ]
  },
  {
   "cell_type": "markdown",
   "id": "32901321-cf8d-4f35-9029-555bd6355b81",
   "metadata": {},
   "source": [
    "Find the limit of the function declared in SymPy below, by having $ x $ approach positive infinity. What does the function $ f $ converge to? Complete the code by replacing the question mark \"?\" below. "
   ]
  },
  {
   "cell_type": "code",
   "execution_count": null,
   "id": "aa97d7a0-3273-4bac-92f0-1230e1409384",
   "metadata": {},
   "outputs": [],
   "source": [
    "from sympy import * \n",
    "\n",
    "x = symbols('x')\n",
    "f = (2 / (x + 3)) + 5\n",
    "\n",
    "?"
   ]
  },
  {
   "cell_type": "markdown",
   "id": "bfaed011-c347-4941-9389-030e0c4b4964",
   "metadata": {},
   "source": [
    "### SCROLL DOWN FOR ANSWER\n",
    "|<br>\n",
    "|<br>\n",
    "|<br>\n",
    "|<br>\n",
    "|<br>\n",
    "|<br>\n",
    "|<br>\n",
    "|<br>\n",
    "|<br>\n",
    "|<br>\n",
    "|<br>\n",
    "|<br>\n",
    "|<br>\n",
    "|<br>\n",
    "|<br>\n",
    "|<br>\n",
    "|<br>\n",
    "|<br>\n",
    "|<br>\n",
    "|<br>\n",
    "|<br>\n",
    "|<br>\n",
    "|<br>\n",
    "v "
   ]
  },
  {
   "cell_type": "markdown",
   "id": "443d5bd9-4656-4c57-b698-820501bf3e3e",
   "metadata": {},
   "source": [
    "The function approachs $ 5 $ as $ x $ approaches infinity. "
   ]
  },
  {
   "cell_type": "code",
   "execution_count": null,
   "id": "e29c004b-a84d-404a-a4b7-b285060f2456",
   "metadata": {},
   "outputs": [],
   "source": [
    "from sympy import * \n",
    "\n",
    "x = symbols('x')\n",
    "f = (2 / (x + 3)) + 5\n",
    "\n",
    "limit(f, x, oo)"
   ]
  },
  {
   "cell_type": "markdown",
   "id": "f1f5f434-c239-4552-bcdd-4f229e825e0e",
   "metadata": {},
   "source": [
    "For good measure, you can plot the function and see this visualized and verify. "
   ]
  },
  {
   "cell_type": "code",
   "execution_count": null,
   "id": "639b2e2f-33d7-49b8-8f65-5b2d8b04229e",
   "metadata": {},
   "outputs": [],
   "source": [
    "plot(f, xlim=(-20,20), ylim=(-20,20))"
   ]
  }
 ],
 "metadata": {
  "kernelspec": {
   "display_name": "Python 3 (ipykernel)",
   "language": "python",
   "name": "python3"
  },
  "language_info": {
   "codemirror_mode": {
    "name": "ipython",
    "version": 3
   },
   "file_extension": ".py",
   "mimetype": "text/x-python",
   "name": "python",
   "nbconvert_exporter": "python",
   "pygments_lexer": "ipython3",
   "version": "3.11.5"
  }
 },
 "nbformat": 4,
 "nbformat_minor": 5
}
