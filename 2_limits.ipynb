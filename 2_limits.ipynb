{
 "cells": [
  {
   "cell_type": "markdown",
   "id": "e4c51428-ffd4-4138-8629-23b506a8886b",
   "metadata": {},
   "source": [
    "# Limits"
   ]
  },
  {
   "cell_type": "markdown",
   "id": "b45a58bc-d937-42ac-a0aa-1bd0954f91b7",
   "metadata": {},
   "source": [
    "As we get our feet wet with calculus concepts, we will want to get familiar with the concept of limits. The idea of forever approaching a value, but never actually reaching that value, and seeing some convergence is key to unlocking critical calculus ideas like derivatives and integrals. "
   ]
  },
  {
   "cell_type": "markdown",
   "id": "aea906a3-63cb-4c9f-af89-3d59dc08a415",
   "metadata": {},
   "source": [
    "## Approaching Infinity"
   ]
  },
  {
   "cell_type": "markdown",
   "id": "c213dbfb-d685-40de-b7d2-d463be84db03",
   "metadata": {},
   "source": [
    "Let's take this function and plot it in SymPy. \n",
    "\n",
    "$\n",
    "\\Large f(x) = \\frac{x^2 - 1}{x - 1}\n",
    "$"
   ]
  },
  {
   "cell_type": "code",
   "execution_count": 38,
   "id": "d113df38-4a7c-4673-b0e9-c9fae9c3ce88",
   "metadata": {},
   "outputs": [
    {
     "data": {
      "image/png": "[encoded data removed]",
      "text/plain": [
       "<Figure size 640x480 with 1 Axes>"
      ]
     },
     "metadata": {},
     "output_type": "display_data"
    },
    {
     "data": {
      "text/plain": [
       "<sympy.plotting.plot.Plot at 0x1274e1910>"
      ]
     },
     "execution_count": 38,
     "metadata": {},
     "output_type": "execute_result"
    }
   ],
   "source": [
    "from sympy import *\n",
    "\n",
    "x = symbols('x')\n",
    "f = (x**2 - 1) / (x - 1)\n",
    "\n",
    "plot(f)"
   ]
  },
  {
   "cell_type": "markdown",
   "id": "a0075353-cfe7-4b3b-a97a-831f9a233ab6",
   "metadata": {},
   "source": [
    "It may not be obvious, but there is a hole in this plot at $ x = 1 $. Can you figure out why? It is because we cannot divide by 0, and the denominator would be 0 if $ x = 1 $. Try it for yourself in Python. "
   ]
  },
  {
   "cell_type": "code",
   "execution_count": 28,
   "id": "f0a871fe-c031-4d29-8897-e3e600d02bf0",
   "metadata": {},
   "outputs": [
    {
     "ename": "ZeroDivisionError",
     "evalue": "division by zero",
     "output_type": "error",
     "traceback": [
      "\u001b[0;31m---------------------------------------------------------------------------\u001b[0m",
      "\u001b[0;31mZeroDivisionError\u001b[0m                         Traceback (most recent call last)",
      "Cell \u001b[0;32mIn[28], line 4\u001b[0m\n\u001b[1;32m      1\u001b[0m \u001b[38;5;28;01mdef\u001b[39;00m \u001b[38;5;21mf\u001b[39m(x): \n\u001b[1;32m      2\u001b[0m     \u001b[38;5;28;01mreturn\u001b[39;00m (x\u001b[38;5;241m*\u001b[39m\u001b[38;5;241m*\u001b[39m\u001b[38;5;241m2\u001b[39m \u001b[38;5;241m-\u001b[39m \u001b[38;5;241m1\u001b[39m) \u001b[38;5;241m/\u001b[39m (x \u001b[38;5;241m-\u001b[39m \u001b[38;5;241m1\u001b[39m)\n\u001b[0;32m----> 4\u001b[0m \u001b[43mf\u001b[49m\u001b[43m(\u001b[49m\u001b[38;5;241;43m1\u001b[39;49m\u001b[43m)\u001b[49m\n",
      "Cell \u001b[0;32mIn[28], line 2\u001b[0m, in \u001b[0;36mf\u001b[0;34m(x)\u001b[0m\n\u001b[1;32m      1\u001b[0m \u001b[38;5;28;01mdef\u001b[39;00m \u001b[38;5;21mf\u001b[39m(x): \n\u001b[0;32m----> 2\u001b[0m     \u001b[38;5;28;01mreturn\u001b[39;00m \u001b[43m(\u001b[49m\u001b[43mx\u001b[49m\u001b[38;5;241;43m*\u001b[39;49m\u001b[38;5;241;43m*\u001b[39;49m\u001b[38;5;241;43m2\u001b[39;49m\u001b[43m \u001b[49m\u001b[38;5;241;43m-\u001b[39;49m\u001b[43m \u001b[49m\u001b[38;5;241;43m1\u001b[39;49m\u001b[43m)\u001b[49m\u001b[43m \u001b[49m\u001b[38;5;241;43m/\u001b[39;49m\u001b[43m \u001b[49m\u001b[43m(\u001b[49m\u001b[43mx\u001b[49m\u001b[43m \u001b[49m\u001b[38;5;241;43m-\u001b[39;49m\u001b[43m \u001b[49m\u001b[38;5;241;43m1\u001b[39;49m\u001b[43m)\u001b[49m\n",
      "\u001b[0;31mZeroDivisionError\u001b[0m: division by zero"
     ]
    }
   ],
   "source": [
    "def f(x): \n",
    "    return (x**2 - 1) / (x - 1)\n",
    "\n",
    "f(1)"
   ]
  },
  {
   "cell_type": "markdown",
   "id": "7e1e7885-315e-4849-a36b-6dd1a154ac15",
   "metadata": {},
   "source": [
    "SymPy will not exactly throw an error, but it will give a `NaN` indicating a non-existant value. "
   ]
  },
  {
   "cell_type": "code",
   "execution_count": 29,
   "id": "f087babc-8c33-4e97-9ff5-f1ccd182a451",
   "metadata": {},
   "outputs": [
    {
     "data": {
      "text/latex": [
       "$\\displaystyle \\text{NaN}$"
      ],
      "text/plain": [
       "nan"
      ]
     },
     "execution_count": 29,
     "metadata": {},
     "output_type": "execute_result"
    }
   ],
   "source": [
    "from sympy import *\n",
    "\n",
    "x = symbols('x')\n",
    "f = (x**2 - 1) / (x - 1)\n",
    "\n",
    "f.subs(x, 1)"
   ]
  },
  {
   "cell_type": "markdown",
   "id": "676a350c-0a4d-4178-a720-e4bda2926d2f",
   "metadata": {},
   "source": [
    "So what if we wanted to know what value the function is approaching as $ x = 1 $, without ever reaching $ x = 1 $? Well, we can try to use a really close value to $ 1 $, like $ 1.1 $ right? "
   ]
  },
  {
   "cell_type": "code",
   "execution_count": 30,
   "id": "cc5981a3-fe9a-49b5-9200-91ff5d3bcf79",
   "metadata": {},
   "outputs": [
    {
     "data": {
      "text/plain": [
       "2.1"
      ]
     },
     "execution_count": 30,
     "metadata": {},
     "output_type": "execute_result"
    }
   ],
   "source": [
    "def f(x): \n",
    "    return (x**2 - 1) / (x - 1)\n",
    "\n",
    "f(1.1)"
   ]
  },
  {
   "cell_type": "markdown",
   "id": "ef833453-655a-463e-abfd-b839a1d2180f",
   "metadata": {},
   "source": [
    "Okay, what if we made it even smaller like $ 1.0001 $. "
   ]
  },
  {
   "cell_type": "code",
   "execution_count": 31,
   "id": "3e886d72-3eed-44ab-92ce-cd38be7c6414",
   "metadata": {},
   "outputs": [
    {
     "data": {
      "text/plain": [
       "2.0000999999993923"
      ]
     },
     "execution_count": 31,
     "metadata": {},
     "output_type": "execute_result"
    }
   ],
   "source": [
    "def f(x): \n",
    "    return (x**2 - 1) / (x - 1)\n",
    "\n",
    "f(1.0001)"
   ]
  },
  {
   "cell_type": "markdown",
   "id": "b74de039-d15c-43c6-bf6d-145915cc1da6",
   "metadata": {},
   "source": [
    "I am suspecting the value we are approaching is 2. Let's get even closer to 1.  "
   ]
  },
  {
   "cell_type": "code",
   "execution_count": 36,
   "id": "499bfa0b-dcf2-42cf-a45a-bd2f12cc3b4e",
   "metadata": {},
   "outputs": [
    {
     "data": {
      "text/plain": [
       "2.000000099920072"
      ]
     },
     "execution_count": 36,
     "metadata": {},
     "output_type": "execute_result"
    }
   ],
   "source": [
    "def f(x): \n",
    "    return (x**2 - 1) / (x - 1)\n",
    "\n",
    "f(1.0000001)"
   ]
  },
  {
   "cell_type": "markdown",
   "id": "d4bcb1eb-e3d8-4637-a19d-fc87ca959e22",
   "metadata": {},
   "source": [
    "Alright, it's likely $ 2 $ and if I add any more decimal places than this the floating point system in Python is just going to round to $ 2 $. Is there a more mathematically precise way of doing this task of forever getting closer to $ x = 1 $ and seeing what the function approaches, without ever reaching $ x = 1 $? "
   ]
  },
  {
   "cell_type": "markdown",
   "id": "b789f864-afb9-4746-9f41-fa467df35bba",
   "metadata": {},
   "source": [
    "## Introducing Limits"
   ]
  },
  {
   "cell_type": "markdown",
   "id": "deb67e6f-723e-4309-b401-b23933ad6316",
   "metadata": {},
   "source": [
    "We have this function with a hole in it where $ x = 1 $. That would cause a division by zero. "
   ]
  },
  {
   "cell_type": "markdown",
   "id": "235ee5d9-7731-468d-9c2f-853048133ebf",
   "metadata": {},
   "source": [
    "$\n",
    "\\Large f(x) = \\frac{x^2 - 1}{x - 1}\n",
    "$"
   ]
  },
  {
   "cell_type": "markdown",
   "id": "8146596f-8b72-4a67-947e-f705fca256b0",
   "metadata": {},
   "source": [
    "However, we can find out what value $ f(x) $ approaches as $ x $ gets closer to $ 1 $ by using a **limit**, which helps us identify the converging behavior near an input value. \n",
    "\n",
    "![limit](https://latex.codecogs.com/svg.image?\\Large\\lim_{x\\to1}\\frac{x^2-1}{x-1}=2)"
   ]
  },
  {
   "cell_type": "markdown",
   "id": "166ded6d-990a-4e61-ba42-88afe32478f4",
   "metadata": {},
   "source": [
    "You can calculate a limit in SymPy using the `limit()` function. Pass the SymPy"
   ]
  },
  {
   "cell_type": "code",
   "execution_count": 39,
   "id": "c40d70c9-9fd1-4e5d-9265-9280b8888e33",
   "metadata": {},
   "outputs": [
    {
     "data": {
      "text/latex": [
       "$\\displaystyle 2$"
      ],
      "text/plain": [
       "2"
      ]
     },
     "execution_count": 39,
     "metadata": {},
     "output_type": "execute_result"
    }
   ],
   "source": [
    "from sympy import * \n",
    "\n",
    "x = symbols('x')\n",
    "f = (x**2 - 1) / (x - 1)\n",
    "\n",
    "limit(f,x,1)"
   ]
  },
  {
   "cell_type": "markdown",
   "id": "359dac7a-577c-4389-98ed-ba80fb536c4e",
   "metadata": {},
   "source": [
    "Let's investigate this function next, which also has a \"divide by zero\" problem. To get a good view of the `plot()` with SymPy, set the $ x $ and $ y $ axis ranges to be $ \\pm 10 $ from $ 0 $. \n",
    "\n",
    "$ \n",
    "\\Large f(x) = \\frac{1}{x}\n",
    "$"
   ]
  },
  {
   "cell_type": "markdown",
   "id": "851288a3-2537-40a5-b75e-97eedb2ae2dc",
   "metadata": {},
   "source": [
    "As $ x $ approaches $ 0 $, what does $ f(x) $ approach? "
   ]
  },
  {
   "cell_type": "code",
   "execution_count": 65,
   "id": "d3fccfc3-acce-4f5a-a18d-a5286b70c25c",
   "metadata": {},
   "outputs": [
    {
     "data": {
      "image/png": "[encoded data removed]",
      "text/plain": [
       "<Figure size 640x480 with 1 Axes>"
      ]
     },
     "metadata": {},
     "output_type": "display_data"
    },
    {
     "data": {
      "text/plain": [
       "<sympy.plotting.plot.Plot at 0x140115110>"
      ]
     },
     "execution_count": 65,
     "metadata": {},
     "output_type": "execute_result"
    }
   ],
   "source": [
    "from sympy import * \n",
    "\n",
    "x = symbols('x')\n",
    "f = 1 / x\n",
    "\n",
    "plot(f, xlim=(-10,10), ylim=(-10,10))"
   ]
  },
  {
   "cell_type": "markdown",
   "id": "6c169e55-645a-4d1f-848e-6af07786db0e",
   "metadata": {},
   "source": [
    "Let's again use SymPy to answer this question."
   ]
  },
  {
   "cell_type": "code",
   "execution_count": 68,
   "id": "73d37aad-ebc3-4fa5-9bc3-2aa4a79e878e",
   "metadata": {},
   "outputs": [
    {
     "data": {
      "text/latex": [
       "$\\displaystyle \\infty$"
      ],
      "text/plain": [
       "oo"
      ]
     },
     "execution_count": 68,
     "metadata": {},
     "output_type": "execute_result"
    }
   ],
   "source": [
    "from sympy import * \n",
    "\n",
    "x = symbols('x')\n",
    "f = 1 / x\n",
    "\n",
    "limit(f, x, 0)"
   ]
  },
  {
   "cell_type": "code",
   "execution_count": null,
   "id": "fe0197d2-0062-443c-ae26-b61ee4334fa1",
   "metadata": {},
   "outputs": [],
   "source": []
  }
 ],
 "metadata": {
  "kernelspec": {
   "display_name": "Python 3 (ipykernel)",
   "language": "python",
   "name": "python3"
  },
  "language_info": {
   "codemirror_mode": {
    "name": "ipython",
    "version": 3
   },
   "file_extension": ".py",
   "mimetype": "text/x-python",
   "name": "python",
   "nbconvert_exporter": "python",
   "pygments_lexer": "ipython3",
   "version": "3.11.5"
  }
 },
 "nbformat": 4,
 "nbformat_minor": 5
}
